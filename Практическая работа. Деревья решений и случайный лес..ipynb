{
 "cells": [
  {
   "cell_type": "markdown",
   "metadata": {
    "id": "wGUh9-kKDVk_"
   },
   "source": [
    "# Случайный лес\n",
    "\n",
    "В этом практическом задании вы решите задачу регрессии на реальных данных при помощи линейной модели и случайного леса."
   ]
  },
  {
   "cell_type": "markdown",
   "metadata": {
    "id": "RS-i_3wQqtxS"
   },
   "source": [
    "## Цели практической работы\n",
    "\n",
    "* Научиться применять случайный лес в задаче регрессии.\n",
    "* Научиться сравнивать качество случайного леса с качеством линейной модели.\n",
    "* Научиться настраивать гиперпараметры леса."
   ]
  },
  {
   "cell_type": "markdown",
   "metadata": {
    "id": "4Uo9gVtsqbJX"
   },
   "source": [
    "## Что входит в работу\n",
    "\n",
    "* Выполнить предобработку данных.\n",
    "* Обучить линейную регрессию на данных задачи.\n",
    "* Обучить случайный лес на данных задачи.\n",
    "* Подобрать гиперпараметры для леса.\n",
    "* Визуализировать важность признаков у леса."
   ]
  },
  {
   "cell_type": "markdown",
   "metadata": {
    "id": "9WSnh3hKrFZX"
   },
   "source": [
    "## Что оценивается\n",
    "\n",
    "*  Все ячейки заполнены; при запуске ячеек  Python не выдаёт информацию об ошибках.\n",
    "*  Качество итоговой модели $R^2$ превышает 0,95.\n"
   ]
  },
  {
   "cell_type": "markdown",
   "metadata": {
    "id": "Tb-5iUrybT-m"
   },
   "source": [
    "## Что нужно сделать\n",
    "\n",
    "Постройте модели, предсказывающие стоимость автомобилей по характеристикам.\n",
    "\n",
    "Признаков у машин много, но в этой работе обойдёмся только числовыми признаками:\n",
    "*  year — год производства автомобиля;\n",
    "*  km_driven — пробег;\n",
    "*  seats — количество посадочных мест;\n",
    "*  mileage — другая характеристика пробега;\n",
    "*  engine — мощность двигателя;\n",
    "*  max_power — мощность автомобиля.\n",
    "\n",
    "Целевая переменная — selling_price."
   ]
  },
  {
   "cell_type": "code",
   "execution_count": 1,
   "metadata": {
    "executionInfo": {
     "elapsed": 485,
     "status": "ok",
     "timestamp": 1721378773287,
     "user": {
      "displayName": "Yozhik31",
      "userId": "07739058683274005436"
     },
     "user_tz": -180
    },
    "id": "0smCupJnhCRx"
   },
   "outputs": [],
   "source": [
    "%matplotlib inline\n",
    "import matplotlib.pyplot as plt\n",
    "import pandas as pd\n",
    "import numpy as np\n",
    "\n",
    "\n",
    "from sklearn.linear_model import LinearRegression\n",
    "from sklearn.ensemble import RandomForestRegressor\n",
    "from sklearn.model_selection import train_test_split\n",
    "from sklearn.metrics import r2_score\n",
    "from sklearn.model_selection import GridSearchCV\n",
    "\n",
    "\n",
    "\n",
    "import warnings\n",
    "warnings.filterwarnings('ignore')"
   ]
  },
  {
   "cell_type": "code",
   "execution_count": 2,
   "metadata": {
    "executionInfo": {
     "elapsed": 1364,
     "status": "ok",
     "timestamp": 1721382410999,
     "user": {
      "displayName": "Yozhik31",
      "userId": "07739058683274005436"
     },
     "user_tz": -180
    },
    "id": "waG1C9sh7rOo"
   },
   "outputs": [],
   "source": [
    "train = pd.read_csv('cars_train.csv')\n",
    "test = pd.read_csv('cars_test.csv')"
   ]
  },
  {
   "cell_type": "code",
   "execution_count": 3,
   "metadata": {
    "colab": {
     "base_uri": "https://localhost:8080/",
     "height": 424
    },
    "executionInfo": {
     "elapsed": 4,
     "status": "ok",
     "timestamp": 1721382413020,
     "user": {
      "displayName": "Yozhik31",
      "userId": "07739058683274005436"
     },
     "user_tz": -180
    },
    "id": "lgHUihjR793s",
    "outputId": "deae52b5-2a64-46a9-e612-40e5e5b04cbc"
   },
   "outputs": [
    {
     "data": {
      "text/html": [
       "<div>\n",
       "<style scoped>\n",
       "    .dataframe tbody tr th:only-of-type {\n",
       "        vertical-align: middle;\n",
       "    }\n",
       "\n",
       "    .dataframe tbody tr th {\n",
       "        vertical-align: top;\n",
       "    }\n",
       "\n",
       "    .dataframe thead th {\n",
       "        text-align: right;\n",
       "    }\n",
       "</style>\n",
       "<table border=\"1\" class=\"dataframe\">\n",
       "  <thead>\n",
       "    <tr style=\"text-align: right;\">\n",
       "      <th></th>\n",
       "      <th>name</th>\n",
       "      <th>year</th>\n",
       "      <th>selling_price</th>\n",
       "      <th>km_driven</th>\n",
       "      <th>fuel</th>\n",
       "      <th>seller_type</th>\n",
       "      <th>transmission</th>\n",
       "      <th>owner</th>\n",
       "      <th>mileage</th>\n",
       "      <th>engine</th>\n",
       "      <th>max_power</th>\n",
       "      <th>torque</th>\n",
       "      <th>seats</th>\n",
       "    </tr>\n",
       "  </thead>\n",
       "  <tbody>\n",
       "    <tr>\n",
       "      <th>0</th>\n",
       "      <td>Maruti Swift Dzire VDI</td>\n",
       "      <td>2014.0</td>\n",
       "      <td>450000.0</td>\n",
       "      <td>145500.0</td>\n",
       "      <td>Diesel</td>\n",
       "      <td>Individual</td>\n",
       "      <td>Manual</td>\n",
       "      <td>First Owner</td>\n",
       "      <td>23.4 kmpl</td>\n",
       "      <td>1248 CC</td>\n",
       "      <td>74 bhp</td>\n",
       "      <td>190Nm@ 2000rpm</td>\n",
       "      <td>5.0</td>\n",
       "    </tr>\n",
       "    <tr>\n",
       "      <th>1</th>\n",
       "      <td>Skoda Rapid 1.5 TDI Ambition</td>\n",
       "      <td>2014.0</td>\n",
       "      <td>370000.0</td>\n",
       "      <td>120000.0</td>\n",
       "      <td>Diesel</td>\n",
       "      <td>Individual</td>\n",
       "      <td>Manual</td>\n",
       "      <td>Second Owner</td>\n",
       "      <td>21.14 kmpl</td>\n",
       "      <td>1498 CC</td>\n",
       "      <td>103.52 bhp</td>\n",
       "      <td>250Nm@ 1500-2500rpm</td>\n",
       "      <td>5.0</td>\n",
       "    </tr>\n",
       "    <tr>\n",
       "      <th>2</th>\n",
       "      <td>Hyundai i20 Sportz Diesel</td>\n",
       "      <td>2010.0</td>\n",
       "      <td>225000.0</td>\n",
       "      <td>127000.0</td>\n",
       "      <td>Diesel</td>\n",
       "      <td>Individual</td>\n",
       "      <td>Manual</td>\n",
       "      <td>First Owner</td>\n",
       "      <td>23.0 kmpl</td>\n",
       "      <td>1396 CC</td>\n",
       "      <td>90 bhp</td>\n",
       "      <td>22.4 kgm at 1750-2750rpm</td>\n",
       "      <td>5.0</td>\n",
       "    </tr>\n",
       "    <tr>\n",
       "      <th>3</th>\n",
       "      <td>Maruti Swift VXI BSIII,2007,130000,120000,Petr...</td>\n",
       "      <td>NaN</td>\n",
       "      <td>NaN</td>\n",
       "      <td>NaN</td>\n",
       "      <td>NaN</td>\n",
       "      <td>NaN</td>\n",
       "      <td>NaN</td>\n",
       "      <td>NaN</td>\n",
       "      <td>NaN</td>\n",
       "      <td>NaN</td>\n",
       "      <td>NaN</td>\n",
       "      <td>NaN</td>\n",
       "      <td>NaN</td>\n",
       "    </tr>\n",
       "    <tr>\n",
       "      <th>4</th>\n",
       "      <td>Hyundai Xcent 1.2 VTVT E Plus</td>\n",
       "      <td>2017.0</td>\n",
       "      <td>440000.0</td>\n",
       "      <td>45000.0</td>\n",
       "      <td>Petrol</td>\n",
       "      <td>Individual</td>\n",
       "      <td>Manual</td>\n",
       "      <td>First Owner</td>\n",
       "      <td>20.14 kmpl</td>\n",
       "      <td>1197 CC</td>\n",
       "      <td>81.86 bhp</td>\n",
       "      <td>113.75nm@ 4000rpm</td>\n",
       "      <td>5.0</td>\n",
       "    </tr>\n",
       "    <tr>\n",
       "      <th>...</th>\n",
       "      <td>...</td>\n",
       "      <td>...</td>\n",
       "      <td>...</td>\n",
       "      <td>...</td>\n",
       "      <td>...</td>\n",
       "      <td>...</td>\n",
       "      <td>...</td>\n",
       "      <td>...</td>\n",
       "      <td>...</td>\n",
       "      <td>...</td>\n",
       "      <td>...</td>\n",
       "      <td>...</td>\n",
       "      <td>...</td>\n",
       "    </tr>\n",
       "    <tr>\n",
       "      <th>6993</th>\n",
       "      <td>Hyundai i20 Magna</td>\n",
       "      <td>2013.0</td>\n",
       "      <td>320000.0</td>\n",
       "      <td>110000.0</td>\n",
       "      <td>Petrol</td>\n",
       "      <td>Individual</td>\n",
       "      <td>Manual</td>\n",
       "      <td>First Owner</td>\n",
       "      <td>18.5 kmpl</td>\n",
       "      <td>1197 CC</td>\n",
       "      <td>82.85 bhp</td>\n",
       "      <td>113.7Nm@ 4000rpm</td>\n",
       "      <td>5.0</td>\n",
       "    </tr>\n",
       "    <tr>\n",
       "      <th>6994</th>\n",
       "      <td>Hyundai Verna CRDi SX,2007,135000,119000,Diese...</td>\n",
       "      <td>NaN</td>\n",
       "      <td>NaN</td>\n",
       "      <td>NaN</td>\n",
       "      <td>NaN</td>\n",
       "      <td>NaN</td>\n",
       "      <td>NaN</td>\n",
       "      <td>NaN</td>\n",
       "      <td>NaN</td>\n",
       "      <td>NaN</td>\n",
       "      <td>NaN</td>\n",
       "      <td>NaN</td>\n",
       "      <td>NaN</td>\n",
       "    </tr>\n",
       "    <tr>\n",
       "      <th>6995</th>\n",
       "      <td>Maruti Swift Dzire ZDi</td>\n",
       "      <td>2009.0</td>\n",
       "      <td>382000.0</td>\n",
       "      <td>120000.0</td>\n",
       "      <td>Diesel</td>\n",
       "      <td>Individual</td>\n",
       "      <td>Manual</td>\n",
       "      <td>First Owner</td>\n",
       "      <td>19.3 kmpl</td>\n",
       "      <td>1248 CC</td>\n",
       "      <td>73.9 bhp</td>\n",
       "      <td>190Nm@ 2000rpm</td>\n",
       "      <td>5.0</td>\n",
       "    </tr>\n",
       "    <tr>\n",
       "      <th>6996</th>\n",
       "      <td>Tata Indigo CR4</td>\n",
       "      <td>2013.0</td>\n",
       "      <td>290000.0</td>\n",
       "      <td>25000.0</td>\n",
       "      <td>Diesel</td>\n",
       "      <td>Individual</td>\n",
       "      <td>Manual</td>\n",
       "      <td>First Owner</td>\n",
       "      <td>23.57 kmpl</td>\n",
       "      <td>1396 CC</td>\n",
       "      <td>70 bhp</td>\n",
       "      <td>140Nm@ 1800-3000rpm</td>\n",
       "      <td>5.0</td>\n",
       "    </tr>\n",
       "    <tr>\n",
       "      <th>6997</th>\n",
       "      <td>Tata Indigo CR4</td>\n",
       "      <td>2013.0</td>\n",
       "      <td>290000.0</td>\n",
       "      <td>25000.0</td>\n",
       "      <td>Diesel</td>\n",
       "      <td>Individual</td>\n",
       "      <td>Manual</td>\n",
       "      <td>First Owner</td>\n",
       "      <td>23.57 kmpl</td>\n",
       "      <td>1396 CC</td>\n",
       "      <td>70 bhp</td>\n",
       "      <td>140Nm@ 1800-3000rpm</td>\n",
       "      <td>5.0</td>\n",
       "    </tr>\n",
       "  </tbody>\n",
       "</table>\n",
       "<p>6998 rows × 13 columns</p>\n",
       "</div>"
      ],
      "text/plain": [
       "                                                   name    year  \\\n",
       "0                                Maruti Swift Dzire VDI  2014.0   \n",
       "1                          Skoda Rapid 1.5 TDI Ambition  2014.0   \n",
       "2                             Hyundai i20 Sportz Diesel  2010.0   \n",
       "3     Maruti Swift VXI BSIII,2007,130000,120000,Petr...     NaN   \n",
       "4                         Hyundai Xcent 1.2 VTVT E Plus  2017.0   \n",
       "...                                                 ...     ...   \n",
       "6993                                  Hyundai i20 Magna  2013.0   \n",
       "6994  Hyundai Verna CRDi SX,2007,135000,119000,Diese...     NaN   \n",
       "6995                             Maruti Swift Dzire ZDi  2009.0   \n",
       "6996                                    Tata Indigo CR4  2013.0   \n",
       "6997                                    Tata Indigo CR4  2013.0   \n",
       "\n",
       "      selling_price  km_driven    fuel seller_type transmission         owner  \\\n",
       "0          450000.0   145500.0  Diesel  Individual       Manual   First Owner   \n",
       "1          370000.0   120000.0  Diesel  Individual       Manual  Second Owner   \n",
       "2          225000.0   127000.0  Diesel  Individual       Manual   First Owner   \n",
       "3               NaN        NaN     NaN         NaN          NaN           NaN   \n",
       "4          440000.0    45000.0  Petrol  Individual       Manual   First Owner   \n",
       "...             ...        ...     ...         ...          ...           ...   \n",
       "6993       320000.0   110000.0  Petrol  Individual       Manual   First Owner   \n",
       "6994            NaN        NaN     NaN         NaN          NaN           NaN   \n",
       "6995       382000.0   120000.0  Diesel  Individual       Manual   First Owner   \n",
       "6996       290000.0    25000.0  Diesel  Individual       Manual   First Owner   \n",
       "6997       290000.0    25000.0  Diesel  Individual       Manual   First Owner   \n",
       "\n",
       "         mileage   engine   max_power                    torque  seats  \n",
       "0      23.4 kmpl  1248 CC      74 bhp            190Nm@ 2000rpm    5.0  \n",
       "1     21.14 kmpl  1498 CC  103.52 bhp       250Nm@ 1500-2500rpm    5.0  \n",
       "2      23.0 kmpl  1396 CC      90 bhp  22.4 kgm at 1750-2750rpm    5.0  \n",
       "3            NaN      NaN         NaN                       NaN    NaN  \n",
       "4     20.14 kmpl  1197 CC   81.86 bhp         113.75nm@ 4000rpm    5.0  \n",
       "...          ...      ...         ...                       ...    ...  \n",
       "6993   18.5 kmpl  1197 CC   82.85 bhp          113.7Nm@ 4000rpm    5.0  \n",
       "6994         NaN      NaN         NaN                       NaN    NaN  \n",
       "6995   19.3 kmpl  1248 CC    73.9 bhp            190Nm@ 2000rpm    5.0  \n",
       "6996  23.57 kmpl  1396 CC      70 bhp       140Nm@ 1800-3000rpm    5.0  \n",
       "6997  23.57 kmpl  1396 CC      70 bhp       140Nm@ 1800-3000rpm    5.0  \n",
       "\n",
       "[6998 rows x 13 columns]"
      ]
     },
     "execution_count": 3,
     "metadata": {},
     "output_type": "execute_result"
    }
   ],
   "source": [
    "train"
   ]
  },
  {
   "cell_type": "code",
   "execution_count": 4,
   "metadata": {
    "colab": {
     "base_uri": "https://localhost:8080/"
    },
    "executionInfo": {
     "elapsed": 499,
     "status": "ok",
     "timestamp": 1721382416039,
     "user": {
      "displayName": "Yozhik31",
      "userId": "07739058683274005436"
     },
     "user_tz": -180
    },
    "id": "HvObDilT8lcA",
    "outputId": "b8d50957-0f7f-48e9-879a-4d369e0f6842"
   },
   "outputs": [
    {
     "name": "stdout",
     "output_type": "stream",
     "text": [
      "<class 'pandas.core.frame.DataFrame'>\n",
      "RangeIndex: 6998 entries, 0 to 6997\n",
      "Data columns (total 13 columns):\n",
      " #   Column         Non-Null Count  Dtype  \n",
      "---  ------         --------------  -----  \n",
      " 0   name           6998 non-null   object \n",
      " 1   year           6699 non-null   float64\n",
      " 2   selling_price  6699 non-null   float64\n",
      " 3   km_driven      6699 non-null   float64\n",
      " 4   fuel           6699 non-null   object \n",
      " 5   seller_type    6699 non-null   object \n",
      " 6   transmission   6699 non-null   object \n",
      " 7   owner          6699 non-null   object \n",
      " 8   mileage        6497 non-null   object \n",
      " 9   engine         6497 non-null   object \n",
      " 10  max_power      6503 non-null   object \n",
      " 11  torque         6497 non-null   object \n",
      " 12  seats          6497 non-null   float64\n",
      "dtypes: float64(4), object(9)\n",
      "memory usage: 710.9+ KB\n"
     ]
    }
   ],
   "source": [
    "train.info()"
   ]
  },
  {
   "cell_type": "code",
   "execution_count": 5,
   "metadata": {
    "colab": {
     "base_uri": "https://localhost:8080/"
    },
    "executionInfo": {
     "elapsed": 513,
     "status": "ok",
     "timestamp": 1721382418717,
     "user": {
      "displayName": "Yozhik31",
      "userId": "07739058683274005436"
     },
     "user_tz": -180
    },
    "id": "vcbDIR4A9Q0v",
    "outputId": "d6f3671c-6a63-42e0-f5f0-a4b7f6cbe911"
   },
   "outputs": [
    {
     "data": {
      "text/plain": [
       "name               0\n",
       "year             299\n",
       "selling_price    299\n",
       "km_driven        299\n",
       "fuel             299\n",
       "seller_type      299\n",
       "transmission     299\n",
       "owner            299\n",
       "mileage          501\n",
       "engine           501\n",
       "max_power        495\n",
       "torque           501\n",
       "seats            501\n",
       "dtype: int64"
      ]
     },
     "execution_count": 5,
     "metadata": {},
     "output_type": "execute_result"
    }
   ],
   "source": [
    "train.isnull().sum()"
   ]
  },
  {
   "cell_type": "markdown",
   "metadata": {
    "id": "yEluf2kRfOaa"
   },
   "source": [
    "В тренировочных данных есть автомобили, для которых неизвестна стоимость. Удалите эти автомобили из трейна."
   ]
  },
  {
   "cell_type": "code",
   "execution_count": 6,
   "metadata": {
    "executionInfo": {
     "elapsed": 509,
     "status": "ok",
     "timestamp": 1721382422379,
     "user": {
      "displayName": "Yozhik31",
      "userId": "07739058683274005436"
     },
     "user_tz": -180
    },
    "id": "rUW5ddzLfQWi"
   },
   "outputs": [],
   "source": [
    "# Ваш код здесь\n",
    "train_new = train.dropna(subset=['selling_price'])"
   ]
  },
  {
   "cell_type": "code",
   "execution_count": 7,
   "metadata": {
    "colab": {
     "base_uri": "https://localhost:8080/"
    },
    "executionInfo": {
     "elapsed": 2,
     "status": "ok",
     "timestamp": 1721382424054,
     "user": {
      "displayName": "Yozhik31",
      "userId": "07739058683274005436"
     },
     "user_tz": -180
    },
    "id": "RfYrANh3jKOD",
    "outputId": "6b00a770-a0fb-48c3-c3fc-1366add948c0"
   },
   "outputs": [
    {
     "data": {
      "text/plain": [
       "name               0\n",
       "year               0\n",
       "selling_price      0\n",
       "km_driven          0\n",
       "fuel               0\n",
       "seller_type        0\n",
       "transmission       0\n",
       "owner              0\n",
       "mileage          202\n",
       "engine           202\n",
       "max_power        196\n",
       "torque           202\n",
       "seats            202\n",
       "dtype: int64"
      ]
     },
     "execution_count": 7,
     "metadata": {},
     "output_type": "execute_result"
    }
   ],
   "source": [
    "train_new.isnull().sum()"
   ]
  },
  {
   "cell_type": "code",
   "execution_count": 8,
   "metadata": {
    "colab": {
     "base_uri": "https://localhost:8080/",
     "height": 424
    },
    "executionInfo": {
     "elapsed": 901,
     "status": "ok",
     "timestamp": 1721382427952,
     "user": {
      "displayName": "Yozhik31",
      "userId": "07739058683274005436"
     },
     "user_tz": -180
    },
    "id": "ky7pJ99grJ_Q",
    "outputId": "b889e350-c7b6-4cca-ad98-b75ee0706a17"
   },
   "outputs": [
    {
     "data": {
      "text/html": [
       "<div>\n",
       "<style scoped>\n",
       "    .dataframe tbody tr th:only-of-type {\n",
       "        vertical-align: middle;\n",
       "    }\n",
       "\n",
       "    .dataframe tbody tr th {\n",
       "        vertical-align: top;\n",
       "    }\n",
       "\n",
       "    .dataframe thead th {\n",
       "        text-align: right;\n",
       "    }\n",
       "</style>\n",
       "<table border=\"1\" class=\"dataframe\">\n",
       "  <thead>\n",
       "    <tr style=\"text-align: right;\">\n",
       "      <th></th>\n",
       "      <th>name</th>\n",
       "      <th>year</th>\n",
       "      <th>selling_price</th>\n",
       "      <th>km_driven</th>\n",
       "      <th>fuel</th>\n",
       "      <th>seller_type</th>\n",
       "      <th>transmission</th>\n",
       "      <th>owner</th>\n",
       "      <th>mileage</th>\n",
       "      <th>engine</th>\n",
       "      <th>max_power</th>\n",
       "      <th>torque</th>\n",
       "      <th>seats</th>\n",
       "    </tr>\n",
       "  </thead>\n",
       "  <tbody>\n",
       "    <tr>\n",
       "      <th>0</th>\n",
       "      <td>Mahindra Xylo E4 BS IV</td>\n",
       "      <td>2010</td>\n",
       "      <td>229999</td>\n",
       "      <td>168000</td>\n",
       "      <td>Diesel</td>\n",
       "      <td>Individual</td>\n",
       "      <td>Manual</td>\n",
       "      <td>First Owner</td>\n",
       "      <td>14.0 kmpl</td>\n",
       "      <td>2498 CC</td>\n",
       "      <td>112 bhp</td>\n",
       "      <td>260 Nm at 1800-2200 rpm</td>\n",
       "      <td>7.0</td>\n",
       "    </tr>\n",
       "    <tr>\n",
       "      <th>1</th>\n",
       "      <td>Tata Nexon 1.5 Revotorq XE</td>\n",
       "      <td>2017</td>\n",
       "      <td>665000</td>\n",
       "      <td>25000</td>\n",
       "      <td>Diesel</td>\n",
       "      <td>Individual</td>\n",
       "      <td>Manual</td>\n",
       "      <td>First Owner</td>\n",
       "      <td>21.5 kmpl</td>\n",
       "      <td>1497 CC</td>\n",
       "      <td>108.5 bhp</td>\n",
       "      <td>260Nm@ 1500-2750rpm</td>\n",
       "      <td>5.0</td>\n",
       "    </tr>\n",
       "    <tr>\n",
       "      <th>2</th>\n",
       "      <td>Honda Civic 1.8 S AT</td>\n",
       "      <td>2007</td>\n",
       "      <td>175000</td>\n",
       "      <td>218463</td>\n",
       "      <td>Petrol</td>\n",
       "      <td>Individual</td>\n",
       "      <td>Automatic</td>\n",
       "      <td>First Owner</td>\n",
       "      <td>12.9 kmpl</td>\n",
       "      <td>1799 CC</td>\n",
       "      <td>130 bhp</td>\n",
       "      <td>172Nm@ 4300rpm</td>\n",
       "      <td>5.0</td>\n",
       "    </tr>\n",
       "    <tr>\n",
       "      <th>3</th>\n",
       "      <td>Honda City i DTEC VX</td>\n",
       "      <td>2015</td>\n",
       "      <td>635000</td>\n",
       "      <td>173000</td>\n",
       "      <td>Diesel</td>\n",
       "      <td>Individual</td>\n",
       "      <td>Manual</td>\n",
       "      <td>First Owner</td>\n",
       "      <td>25.1 kmpl</td>\n",
       "      <td>1498 CC</td>\n",
       "      <td>98.6 bhp</td>\n",
       "      <td>200Nm@ 1750rpm</td>\n",
       "      <td>5.0</td>\n",
       "    </tr>\n",
       "    <tr>\n",
       "      <th>4</th>\n",
       "      <td>Tata Indica Vista Aura 1.2 Safire BSIV</td>\n",
       "      <td>2011</td>\n",
       "      <td>130000</td>\n",
       "      <td>70000</td>\n",
       "      <td>Petrol</td>\n",
       "      <td>Individual</td>\n",
       "      <td>Manual</td>\n",
       "      <td>Second Owner</td>\n",
       "      <td>16.5 kmpl</td>\n",
       "      <td>1172 CC</td>\n",
       "      <td>65 bhp</td>\n",
       "      <td>96  Nm at 3000  rpm</td>\n",
       "      <td>5.0</td>\n",
       "    </tr>\n",
       "    <tr>\n",
       "      <th>...</th>\n",
       "      <td>...</td>\n",
       "      <td>...</td>\n",
       "      <td>...</td>\n",
       "      <td>...</td>\n",
       "      <td>...</td>\n",
       "      <td>...</td>\n",
       "      <td>...</td>\n",
       "      <td>...</td>\n",
       "      <td>...</td>\n",
       "      <td>...</td>\n",
       "      <td>...</td>\n",
       "      <td>...</td>\n",
       "      <td>...</td>\n",
       "    </tr>\n",
       "    <tr>\n",
       "      <th>995</th>\n",
       "      <td>Hyundai i10 Magna 1.1L</td>\n",
       "      <td>2008</td>\n",
       "      <td>250000</td>\n",
       "      <td>100000</td>\n",
       "      <td>Petrol</td>\n",
       "      <td>Individual</td>\n",
       "      <td>Manual</td>\n",
       "      <td>Second Owner</td>\n",
       "      <td>19.81 kmpl</td>\n",
       "      <td>1086 CC</td>\n",
       "      <td>68.05 bhp</td>\n",
       "      <td>99.04Nm@ 4500rpm</td>\n",
       "      <td>5.0</td>\n",
       "    </tr>\n",
       "    <tr>\n",
       "      <th>996</th>\n",
       "      <td>Hyundai i20 2015-2017 Sportz 1.2</td>\n",
       "      <td>2017</td>\n",
       "      <td>440000</td>\n",
       "      <td>50000</td>\n",
       "      <td>Petrol</td>\n",
       "      <td>Individual</td>\n",
       "      <td>Manual</td>\n",
       "      <td>Second Owner</td>\n",
       "      <td>18.6 kmpl</td>\n",
       "      <td>1197 CC</td>\n",
       "      <td>81.83 bhp</td>\n",
       "      <td>114.7Nm@ 4000rpm</td>\n",
       "      <td>5.0</td>\n",
       "    </tr>\n",
       "    <tr>\n",
       "      <th>997</th>\n",
       "      <td>Hyundai i20 Era Diesel</td>\n",
       "      <td>2009</td>\n",
       "      <td>340000</td>\n",
       "      <td>40000</td>\n",
       "      <td>Diesel</td>\n",
       "      <td>Individual</td>\n",
       "      <td>Manual</td>\n",
       "      <td>First Owner</td>\n",
       "      <td>23.0 kmpl</td>\n",
       "      <td>1396 CC</td>\n",
       "      <td>90 bhp</td>\n",
       "      <td>22.4 kgm at 1750-2750rpm</td>\n",
       "      <td>5.0</td>\n",
       "    </tr>\n",
       "    <tr>\n",
       "      <th>998</th>\n",
       "      <td>Hyundai i10 Asta</td>\n",
       "      <td>2012</td>\n",
       "      <td>350000</td>\n",
       "      <td>25000</td>\n",
       "      <td>Petrol</td>\n",
       "      <td>Individual</td>\n",
       "      <td>Manual</td>\n",
       "      <td>First Owner</td>\n",
       "      <td>20.36 kmpl</td>\n",
       "      <td>1197 CC</td>\n",
       "      <td>78.9 bhp</td>\n",
       "      <td>111.8Nm@ 4000rpm</td>\n",
       "      <td>5.0</td>\n",
       "    </tr>\n",
       "    <tr>\n",
       "      <th>999</th>\n",
       "      <td>Honda City i DTec SV</td>\n",
       "      <td>2016</td>\n",
       "      <td>700000</td>\n",
       "      <td>110000</td>\n",
       "      <td>Diesel</td>\n",
       "      <td>Individual</td>\n",
       "      <td>Manual</td>\n",
       "      <td>First Owner</td>\n",
       "      <td>26.0 kmpl</td>\n",
       "      <td>1498 CC</td>\n",
       "      <td>98.6 bhp</td>\n",
       "      <td>200Nm@ 1750rpm</td>\n",
       "      <td>5.0</td>\n",
       "    </tr>\n",
       "  </tbody>\n",
       "</table>\n",
       "<p>1000 rows × 13 columns</p>\n",
       "</div>"
      ],
      "text/plain": [
       "                                       name  year  selling_price  km_driven  \\\n",
       "0                    Mahindra Xylo E4 BS IV  2010         229999     168000   \n",
       "1                Tata Nexon 1.5 Revotorq XE  2017         665000      25000   \n",
       "2                      Honda Civic 1.8 S AT  2007         175000     218463   \n",
       "3                      Honda City i DTEC VX  2015         635000     173000   \n",
       "4    Tata Indica Vista Aura 1.2 Safire BSIV  2011         130000      70000   \n",
       "..                                      ...   ...            ...        ...   \n",
       "995                  Hyundai i10 Magna 1.1L  2008         250000     100000   \n",
       "996        Hyundai i20 2015-2017 Sportz 1.2  2017         440000      50000   \n",
       "997                  Hyundai i20 Era Diesel  2009         340000      40000   \n",
       "998                        Hyundai i10 Asta  2012         350000      25000   \n",
       "999                    Honda City i DTec SV  2016         700000     110000   \n",
       "\n",
       "       fuel seller_type transmission         owner     mileage   engine  \\\n",
       "0    Diesel  Individual       Manual   First Owner   14.0 kmpl  2498 CC   \n",
       "1    Diesel  Individual       Manual   First Owner   21.5 kmpl  1497 CC   \n",
       "2    Petrol  Individual    Automatic   First Owner   12.9 kmpl  1799 CC   \n",
       "3    Diesel  Individual       Manual   First Owner   25.1 kmpl  1498 CC   \n",
       "4    Petrol  Individual       Manual  Second Owner   16.5 kmpl  1172 CC   \n",
       "..      ...         ...          ...           ...         ...      ...   \n",
       "995  Petrol  Individual       Manual  Second Owner  19.81 kmpl  1086 CC   \n",
       "996  Petrol  Individual       Manual  Second Owner   18.6 kmpl  1197 CC   \n",
       "997  Diesel  Individual       Manual   First Owner   23.0 kmpl  1396 CC   \n",
       "998  Petrol  Individual       Manual   First Owner  20.36 kmpl  1197 CC   \n",
       "999  Diesel  Individual       Manual   First Owner   26.0 kmpl  1498 CC   \n",
       "\n",
       "     max_power                    torque  seats  \n",
       "0      112 bhp   260 Nm at 1800-2200 rpm    7.0  \n",
       "1    108.5 bhp       260Nm@ 1500-2750rpm    5.0  \n",
       "2      130 bhp            172Nm@ 4300rpm    5.0  \n",
       "3     98.6 bhp            200Nm@ 1750rpm    5.0  \n",
       "4       65 bhp      96  Nm at 3000  rpm     5.0  \n",
       "..         ...                       ...    ...  \n",
       "995  68.05 bhp          99.04Nm@ 4500rpm    5.0  \n",
       "996  81.83 bhp          114.7Nm@ 4000rpm    5.0  \n",
       "997     90 bhp  22.4 kgm at 1750-2750rpm    5.0  \n",
       "998   78.9 bhp          111.8Nm@ 4000rpm    5.0  \n",
       "999   98.6 bhp            200Nm@ 1750rpm    5.0  \n",
       "\n",
       "[1000 rows x 13 columns]"
      ]
     },
     "execution_count": 8,
     "metadata": {},
     "output_type": "execute_result"
    }
   ],
   "source": [
    "test"
   ]
  },
  {
   "cell_type": "code",
   "execution_count": 9,
   "metadata": {
    "colab": {
     "base_uri": "https://localhost:8080/"
    },
    "executionInfo": {
     "elapsed": 705,
     "status": "ok",
     "timestamp": 1721382430986,
     "user": {
      "displayName": "Yozhik31",
      "userId": "07739058683274005436"
     },
     "user_tz": -180
    },
    "id": "356wQxrFrO_8",
    "outputId": "9bd8c64e-6782-4b93-db48-78319301d9da"
   },
   "outputs": [
    {
     "name": "stdout",
     "output_type": "stream",
     "text": [
      "<class 'pandas.core.frame.DataFrame'>\n",
      "RangeIndex: 1000 entries, 0 to 999\n",
      "Data columns (total 13 columns):\n",
      " #   Column         Non-Null Count  Dtype  \n",
      "---  ------         --------------  -----  \n",
      " 0   name           1000 non-null   object \n",
      " 1   year           1000 non-null   int64  \n",
      " 2   selling_price  1000 non-null   int64  \n",
      " 3   km_driven      1000 non-null   int64  \n",
      " 4   fuel           1000 non-null   object \n",
      " 5   seller_type    1000 non-null   object \n",
      " 6   transmission   1000 non-null   object \n",
      " 7   owner          1000 non-null   object \n",
      " 8   mileage        981 non-null    object \n",
      " 9   engine         981 non-null    object \n",
      " 10  max_power      981 non-null    object \n",
      " 11  torque         981 non-null    object \n",
      " 12  seats          981 non-null    float64\n",
      "dtypes: float64(1), int64(3), object(9)\n",
      "memory usage: 101.7+ KB\n"
     ]
    }
   ],
   "source": [
    "test.info()"
   ]
  },
  {
   "cell_type": "code",
   "execution_count": 10,
   "metadata": {
    "colab": {
     "base_uri": "https://localhost:8080/"
    },
    "executionInfo": {
     "elapsed": 486,
     "status": "ok",
     "timestamp": 1721382433709,
     "user": {
      "displayName": "Yozhik31",
      "userId": "07739058683274005436"
     },
     "user_tz": -180
    },
    "id": "YGBy_84xrXu6",
    "outputId": "430abf1a-2229-4f9d-baa1-3c28c35b094c"
   },
   "outputs": [
    {
     "data": {
      "text/plain": [
       "name              0\n",
       "year              0\n",
       "selling_price     0\n",
       "km_driven         0\n",
       "fuel              0\n",
       "seller_type       0\n",
       "transmission      0\n",
       "owner             0\n",
       "mileage          19\n",
       "engine           19\n",
       "max_power        19\n",
       "torque           19\n",
       "seats            19\n",
       "dtype: int64"
      ]
     },
     "execution_count": 10,
     "metadata": {},
     "output_type": "execute_result"
    }
   ],
   "source": [
    "test.isnull().sum()"
   ]
  },
  {
   "cell_type": "markdown",
   "metadata": {
    "id": "jTjAo4UEL3IG"
   },
   "source": [
    "Создайте объекты Xtrain, ytrain, Xtest, ytest. Запишите в них матрицы «объект — признак» и векторы целевой переменной для тренировочного и тестового датасетов."
   ]
  },
  {
   "cell_type": "markdown",
   "metadata": {
    "id": "_ayjn80xufth"
   },
   "source": [
    "### Train"
   ]
  },
  {
   "cell_type": "code",
   "execution_count": 11,
   "metadata": {
    "executionInfo": {
     "elapsed": 492,
     "status": "ok",
     "timestamp": 1721382439264,
     "user": {
      "displayName": "Yozhik31",
      "userId": "07739058683274005436"
     },
     "user_tz": -180
    },
    "id": "auV_RxE9r5F_"
   },
   "outputs": [],
   "source": [
    "Xtrain = train_new.drop('selling_price', axis=1)\n",
    "ytrain = train_new['selling_price']\n",
    "ytrain.columns = train_new['selling_price']"
   ]
  },
  {
   "cell_type": "code",
   "execution_count": 12,
   "metadata": {
    "colab": {
     "base_uri": "https://localhost:8080/"
    },
    "executionInfo": {
     "elapsed": 474,
     "status": "ok",
     "timestamp": 1721382442358,
     "user": {
      "displayName": "Yozhik31",
      "userId": "07739058683274005436"
     },
     "user_tz": -180
    },
    "id": "Qyahy4FNIGMA",
    "outputId": "1046d37a-21b9-43f9-8149-9a3d6155f8ca"
   },
   "outputs": [
    {
     "data": {
      "text/plain": [
       "0       450000\n",
       "1       370000\n",
       "2       225000\n",
       "4       440000\n",
       "6        45000\n",
       "         ...  \n",
       "6992    260000\n",
       "6993    320000\n",
       "6995    382000\n",
       "6996    290000\n",
       "6997    290000\n",
       "Name: selling_price, Length: 6699, dtype: int32"
      ]
     },
     "execution_count": 12,
     "metadata": {},
     "output_type": "execute_result"
    }
   ],
   "source": [
    "ytrain.astype(int)"
   ]
  },
  {
   "cell_type": "markdown",
   "metadata": {
    "id": "3HbVvXLSlVK-"
   },
   "source": [
    "Перед обучением моделей обработайте данные.\n",
    "\n",
    "Обратите внимание, что столбцы mileage, engine и max_power по смыслу числовые. Чтобы превратить их в числовые столбцы, отбросьте единицы измерения и оставьте только числа. В столбцах есть пропущенные значения, их при обработке трогать не нужно."
   ]
  },
  {
   "cell_type": "code",
   "execution_count": 13,
   "metadata": {
    "colab": {
     "base_uri": "https://localhost:8080/"
    },
    "executionInfo": {
     "elapsed": 479,
     "status": "ok",
     "timestamp": 1721382446541,
     "user": {
      "displayName": "Yozhik31",
      "userId": "07739058683274005436"
     },
     "user_tz": -180
    },
    "id": "OdvsVN9Blg7r",
    "outputId": "219835ba-c673-4ea9-85e7-7969df1a55b0"
   },
   "outputs": [
    {
     "name": "stdout",
     "output_type": "stream",
     "text": [
      "0        234.0\n",
      "1       2114.0\n",
      "2        230.0\n",
      "4       2014.0\n",
      "6        161.0\n",
      "         ...  \n",
      "6992     189.0\n",
      "6993     185.0\n",
      "6995     193.0\n",
      "6996    2357.0\n",
      "6997    2357.0\n",
      "Name: mileage, Length: 6699, dtype: float64\n"
     ]
    }
   ],
   "source": [
    "# Ваш код здесь\n",
    "mileage_seri = Xtrain['mileage']\n",
    "mileage_seri = mileage_seri.astype(str).str.replace('[^0-9]', '', regex=True)\n",
    "mileage_seri = pd.to_numeric(mileage_seri, errors='coerce')\n",
    "print(mileage_seri)"
   ]
  },
  {
   "cell_type": "code",
   "execution_count": 14,
   "metadata": {
    "executionInfo": {
     "elapsed": 502,
     "status": "ok",
     "timestamp": 1721382450442,
     "user": {
      "displayName": "Yozhik31",
      "userId": "07739058683274005436"
     },
     "user_tz": -180
    },
    "id": "HDzHxTbBv-1T"
   },
   "outputs": [],
   "source": [
    "Xtrain['mileage'] = mileage_seri"
   ]
  },
  {
   "cell_type": "code",
   "execution_count": 15,
   "metadata": {
    "colab": {
     "base_uri": "https://localhost:8080/"
    },
    "executionInfo": {
     "elapsed": 529,
     "status": "ok",
     "timestamp": 1721382455748,
     "user": {
      "displayName": "Yozhik31",
      "userId": "07739058683274005436"
     },
     "user_tz": -180
    },
    "id": "lroPSev-mgQd",
    "outputId": "8e75bfe9-53d5-4613-9bc1-c6823eb90ece"
   },
   "outputs": [
    {
     "name": "stdout",
     "output_type": "stream",
     "text": [
      "0       1248.0\n",
      "1       1498.0\n",
      "2       1396.0\n",
      "4       1197.0\n",
      "6        796.0\n",
      "         ...  \n",
      "6992     998.0\n",
      "6993    1197.0\n",
      "6995    1248.0\n",
      "6996    1396.0\n",
      "6997    1396.0\n",
      "Name: engine, Length: 6699, dtype: float64\n"
     ]
    }
   ],
   "source": [
    "engine_seri = Xtrain['engine']\n",
    "engine_seri = engine_seri.astype(str).str.replace('[^0-9]', '', regex=True)\n",
    "engine_seri = pd.to_numeric(engine_seri, errors='coerce')\n",
    "print(engine_seri)"
   ]
  },
  {
   "cell_type": "code",
   "execution_count": 16,
   "metadata": {
    "executionInfo": {
     "elapsed": 473,
     "status": "ok",
     "timestamp": 1721382459594,
     "user": {
      "displayName": "Yozhik31",
      "userId": "07739058683274005436"
     },
     "user_tz": -180
    },
    "id": "spDR3wWmwdPK"
   },
   "outputs": [],
   "source": [
    "Xtrain['engine'] = engine_seri"
   ]
  },
  {
   "cell_type": "code",
   "execution_count": 17,
   "metadata": {
    "colab": {
     "base_uri": "https://localhost:8080/"
    },
    "executionInfo": {
     "elapsed": 476,
     "status": "ok",
     "timestamp": 1721382461909,
     "user": {
      "displayName": "Yozhik31",
      "userId": "07739058683274005436"
     },
     "user_tz": -180
    },
    "id": "YWNVUysmobLl",
    "outputId": "36cc715a-e049-47db-ab86-41738bea25e3"
   },
   "outputs": [
    {
     "name": "stdout",
     "output_type": "stream",
     "text": [
      "0          74.0\n",
      "1       10352.0\n",
      "2          90.0\n",
      "4        8186.0\n",
      "6          37.0\n",
      "         ...   \n",
      "6992      671.0\n",
      "6993     8285.0\n",
      "6995      739.0\n",
      "6996       70.0\n",
      "6997       70.0\n",
      "Name: max_power, Length: 6699, dtype: float64\n"
     ]
    }
   ],
   "source": [
    "max_power_seri = Xtrain['max_power']\n",
    "max_power_seri = max_power_seri.astype(str).str.replace('[^0-9]', '', regex=True)\n",
    "max_power_seri = pd.to_numeric(max_power_seri, errors='coerce')\n",
    "print(max_power_seri)"
   ]
  },
  {
   "cell_type": "code",
   "execution_count": 18,
   "metadata": {
    "executionInfo": {
     "elapsed": 511,
     "status": "ok",
     "timestamp": 1721382464922,
     "user": {
      "displayName": "Yozhik31",
      "userId": "07739058683274005436"
     },
     "user_tz": -180
    },
    "id": "ntUSj8QBwlP1"
   },
   "outputs": [],
   "source": [
    "Xtrain['max_power'] = max_power_seri"
   ]
  },
  {
   "cell_type": "code",
   "execution_count": 19,
   "metadata": {
    "colab": {
     "base_uri": "https://localhost:8080/",
     "height": 424
    },
    "executionInfo": {
     "elapsed": 4,
     "status": "ok",
     "timestamp": 1721382469113,
     "user": {
      "displayName": "Yozhik31",
      "userId": "07739058683274005436"
     },
     "user_tz": -180
    },
    "id": "94OjsMf0wrNr",
    "outputId": "14c15c44-4a36-492a-ac18-75742fd68f27"
   },
   "outputs": [
    {
     "data": {
      "text/html": [
       "<div>\n",
       "<style scoped>\n",
       "    .dataframe tbody tr th:only-of-type {\n",
       "        vertical-align: middle;\n",
       "    }\n",
       "\n",
       "    .dataframe tbody tr th {\n",
       "        vertical-align: top;\n",
       "    }\n",
       "\n",
       "    .dataframe thead th {\n",
       "        text-align: right;\n",
       "    }\n",
       "</style>\n",
       "<table border=\"1\" class=\"dataframe\">\n",
       "  <thead>\n",
       "    <tr style=\"text-align: right;\">\n",
       "      <th></th>\n",
       "      <th>name</th>\n",
       "      <th>year</th>\n",
       "      <th>km_driven</th>\n",
       "      <th>fuel</th>\n",
       "      <th>seller_type</th>\n",
       "      <th>transmission</th>\n",
       "      <th>owner</th>\n",
       "      <th>mileage</th>\n",
       "      <th>engine</th>\n",
       "      <th>max_power</th>\n",
       "      <th>torque</th>\n",
       "      <th>seats</th>\n",
       "    </tr>\n",
       "  </thead>\n",
       "  <tbody>\n",
       "    <tr>\n",
       "      <th>0</th>\n",
       "      <td>Maruti Swift Dzire VDI</td>\n",
       "      <td>2014.0</td>\n",
       "      <td>145500.0</td>\n",
       "      <td>Diesel</td>\n",
       "      <td>Individual</td>\n",
       "      <td>Manual</td>\n",
       "      <td>First Owner</td>\n",
       "      <td>234.0</td>\n",
       "      <td>1248.0</td>\n",
       "      <td>74.0</td>\n",
       "      <td>190Nm@ 2000rpm</td>\n",
       "      <td>5.0</td>\n",
       "    </tr>\n",
       "    <tr>\n",
       "      <th>1</th>\n",
       "      <td>Skoda Rapid 1.5 TDI Ambition</td>\n",
       "      <td>2014.0</td>\n",
       "      <td>120000.0</td>\n",
       "      <td>Diesel</td>\n",
       "      <td>Individual</td>\n",
       "      <td>Manual</td>\n",
       "      <td>Second Owner</td>\n",
       "      <td>2114.0</td>\n",
       "      <td>1498.0</td>\n",
       "      <td>10352.0</td>\n",
       "      <td>250Nm@ 1500-2500rpm</td>\n",
       "      <td>5.0</td>\n",
       "    </tr>\n",
       "    <tr>\n",
       "      <th>2</th>\n",
       "      <td>Hyundai i20 Sportz Diesel</td>\n",
       "      <td>2010.0</td>\n",
       "      <td>127000.0</td>\n",
       "      <td>Diesel</td>\n",
       "      <td>Individual</td>\n",
       "      <td>Manual</td>\n",
       "      <td>First Owner</td>\n",
       "      <td>230.0</td>\n",
       "      <td>1396.0</td>\n",
       "      <td>90.0</td>\n",
       "      <td>22.4 kgm at 1750-2750rpm</td>\n",
       "      <td>5.0</td>\n",
       "    </tr>\n",
       "    <tr>\n",
       "      <th>4</th>\n",
       "      <td>Hyundai Xcent 1.2 VTVT E Plus</td>\n",
       "      <td>2017.0</td>\n",
       "      <td>45000.0</td>\n",
       "      <td>Petrol</td>\n",
       "      <td>Individual</td>\n",
       "      <td>Manual</td>\n",
       "      <td>First Owner</td>\n",
       "      <td>2014.0</td>\n",
       "      <td>1197.0</td>\n",
       "      <td>8186.0</td>\n",
       "      <td>113.75nm@ 4000rpm</td>\n",
       "      <td>5.0</td>\n",
       "    </tr>\n",
       "    <tr>\n",
       "      <th>6</th>\n",
       "      <td>Maruti 800 DX BSII</td>\n",
       "      <td>2001.0</td>\n",
       "      <td>5000.0</td>\n",
       "      <td>Petrol</td>\n",
       "      <td>Individual</td>\n",
       "      <td>Manual</td>\n",
       "      <td>Second Owner</td>\n",
       "      <td>161.0</td>\n",
       "      <td>796.0</td>\n",
       "      <td>37.0</td>\n",
       "      <td>59Nm@ 2500rpm</td>\n",
       "      <td>4.0</td>\n",
       "    </tr>\n",
       "    <tr>\n",
       "      <th>...</th>\n",
       "      <td>...</td>\n",
       "      <td>...</td>\n",
       "      <td>...</td>\n",
       "      <td>...</td>\n",
       "      <td>...</td>\n",
       "      <td>...</td>\n",
       "      <td>...</td>\n",
       "      <td>...</td>\n",
       "      <td>...</td>\n",
       "      <td>...</td>\n",
       "      <td>...</td>\n",
       "      <td>...</td>\n",
       "    </tr>\n",
       "    <tr>\n",
       "      <th>6992</th>\n",
       "      <td>Maruti Wagon R VXI BS IV with ABS</td>\n",
       "      <td>2013.0</td>\n",
       "      <td>50000.0</td>\n",
       "      <td>Petrol</td>\n",
       "      <td>Individual</td>\n",
       "      <td>Manual</td>\n",
       "      <td>Second Owner</td>\n",
       "      <td>189.0</td>\n",
       "      <td>998.0</td>\n",
       "      <td>671.0</td>\n",
       "      <td>90Nm@ 3500rpm</td>\n",
       "      <td>5.0</td>\n",
       "    </tr>\n",
       "    <tr>\n",
       "      <th>6993</th>\n",
       "      <td>Hyundai i20 Magna</td>\n",
       "      <td>2013.0</td>\n",
       "      <td>110000.0</td>\n",
       "      <td>Petrol</td>\n",
       "      <td>Individual</td>\n",
       "      <td>Manual</td>\n",
       "      <td>First Owner</td>\n",
       "      <td>185.0</td>\n",
       "      <td>1197.0</td>\n",
       "      <td>8285.0</td>\n",
       "      <td>113.7Nm@ 4000rpm</td>\n",
       "      <td>5.0</td>\n",
       "    </tr>\n",
       "    <tr>\n",
       "      <th>6995</th>\n",
       "      <td>Maruti Swift Dzire ZDi</td>\n",
       "      <td>2009.0</td>\n",
       "      <td>120000.0</td>\n",
       "      <td>Diesel</td>\n",
       "      <td>Individual</td>\n",
       "      <td>Manual</td>\n",
       "      <td>First Owner</td>\n",
       "      <td>193.0</td>\n",
       "      <td>1248.0</td>\n",
       "      <td>739.0</td>\n",
       "      <td>190Nm@ 2000rpm</td>\n",
       "      <td>5.0</td>\n",
       "    </tr>\n",
       "    <tr>\n",
       "      <th>6996</th>\n",
       "      <td>Tata Indigo CR4</td>\n",
       "      <td>2013.0</td>\n",
       "      <td>25000.0</td>\n",
       "      <td>Diesel</td>\n",
       "      <td>Individual</td>\n",
       "      <td>Manual</td>\n",
       "      <td>First Owner</td>\n",
       "      <td>2357.0</td>\n",
       "      <td>1396.0</td>\n",
       "      <td>70.0</td>\n",
       "      <td>140Nm@ 1800-3000rpm</td>\n",
       "      <td>5.0</td>\n",
       "    </tr>\n",
       "    <tr>\n",
       "      <th>6997</th>\n",
       "      <td>Tata Indigo CR4</td>\n",
       "      <td>2013.0</td>\n",
       "      <td>25000.0</td>\n",
       "      <td>Diesel</td>\n",
       "      <td>Individual</td>\n",
       "      <td>Manual</td>\n",
       "      <td>First Owner</td>\n",
       "      <td>2357.0</td>\n",
       "      <td>1396.0</td>\n",
       "      <td>70.0</td>\n",
       "      <td>140Nm@ 1800-3000rpm</td>\n",
       "      <td>5.0</td>\n",
       "    </tr>\n",
       "  </tbody>\n",
       "</table>\n",
       "<p>6699 rows × 12 columns</p>\n",
       "</div>"
      ],
      "text/plain": [
       "                                   name    year  km_driven    fuel  \\\n",
       "0                Maruti Swift Dzire VDI  2014.0   145500.0  Diesel   \n",
       "1          Skoda Rapid 1.5 TDI Ambition  2014.0   120000.0  Diesel   \n",
       "2             Hyundai i20 Sportz Diesel  2010.0   127000.0  Diesel   \n",
       "4         Hyundai Xcent 1.2 VTVT E Plus  2017.0    45000.0  Petrol   \n",
       "6                    Maruti 800 DX BSII  2001.0     5000.0  Petrol   \n",
       "...                                 ...     ...        ...     ...   \n",
       "6992  Maruti Wagon R VXI BS IV with ABS  2013.0    50000.0  Petrol   \n",
       "6993                  Hyundai i20 Magna  2013.0   110000.0  Petrol   \n",
       "6995             Maruti Swift Dzire ZDi  2009.0   120000.0  Diesel   \n",
       "6996                    Tata Indigo CR4  2013.0    25000.0  Diesel   \n",
       "6997                    Tata Indigo CR4  2013.0    25000.0  Diesel   \n",
       "\n",
       "     seller_type transmission         owner  mileage  engine  max_power  \\\n",
       "0     Individual       Manual   First Owner    234.0  1248.0       74.0   \n",
       "1     Individual       Manual  Second Owner   2114.0  1498.0    10352.0   \n",
       "2     Individual       Manual   First Owner    230.0  1396.0       90.0   \n",
       "4     Individual       Manual   First Owner   2014.0  1197.0     8186.0   \n",
       "6     Individual       Manual  Second Owner    161.0   796.0       37.0   \n",
       "...          ...          ...           ...      ...     ...        ...   \n",
       "6992  Individual       Manual  Second Owner    189.0   998.0      671.0   \n",
       "6993  Individual       Manual   First Owner    185.0  1197.0     8285.0   \n",
       "6995  Individual       Manual   First Owner    193.0  1248.0      739.0   \n",
       "6996  Individual       Manual   First Owner   2357.0  1396.0       70.0   \n",
       "6997  Individual       Manual   First Owner   2357.0  1396.0       70.0   \n",
       "\n",
       "                        torque  seats  \n",
       "0               190Nm@ 2000rpm    5.0  \n",
       "1          250Nm@ 1500-2500rpm    5.0  \n",
       "2     22.4 kgm at 1750-2750rpm    5.0  \n",
       "4            113.75nm@ 4000rpm    5.0  \n",
       "6                59Nm@ 2500rpm    4.0  \n",
       "...                        ...    ...  \n",
       "6992             90Nm@ 3500rpm    5.0  \n",
       "6993          113.7Nm@ 4000rpm    5.0  \n",
       "6995            190Nm@ 2000rpm    5.0  \n",
       "6996       140Nm@ 1800-3000rpm    5.0  \n",
       "6997       140Nm@ 1800-3000rpm    5.0  \n",
       "\n",
       "[6699 rows x 12 columns]"
      ]
     },
     "execution_count": 19,
     "metadata": {},
     "output_type": "execute_result"
    }
   ],
   "source": [
    "Xtrain"
   ]
  },
  {
   "cell_type": "code",
   "execution_count": 20,
   "metadata": {
    "executionInfo": {
     "elapsed": 855,
     "status": "ok",
     "timestamp": 1721382477948,
     "user": {
      "displayName": "Yozhik31",
      "userId": "07739058683274005436"
     },
     "user_tz": -180
    },
    "id": "p88FrFA-DJa8"
   },
   "outputs": [],
   "source": [
    "test_new = test.copy()"
   ]
  },
  {
   "cell_type": "code",
   "execution_count": 21,
   "metadata": {
    "executionInfo": {
     "elapsed": 483,
     "status": "ok",
     "timestamp": 1721382481166,
     "user": {
      "displayName": "Yozhik31",
      "userId": "07739058683274005436"
     },
     "user_tz": -180
    },
    "id": "3y1YeTVYzX2q"
   },
   "outputs": [],
   "source": [
    "Xtest = test_new.drop('selling_price', axis=1)\n",
    "ytest = test_new['selling_price']\n",
    "ytest.columns = test_new['selling_price']"
   ]
  },
  {
   "cell_type": "code",
   "execution_count": 22,
   "metadata": {
    "colab": {
     "base_uri": "https://localhost:8080/"
    },
    "executionInfo": {
     "elapsed": 502,
     "status": "ok",
     "timestamp": 1721382484686,
     "user": {
      "displayName": "Yozhik31",
      "userId": "07739058683274005436"
     },
     "user_tz": -180
    },
    "id": "ZqwnlQ_ZH30i",
    "outputId": "581b77e2-3020-4b9d-c27a-b4af468e6347"
   },
   "outputs": [
    {
     "data": {
      "text/plain": [
       "0      229999\n",
       "1      665000\n",
       "2      175000\n",
       "3      635000\n",
       "4      130000\n",
       "        ...  \n",
       "995    250000\n",
       "996    440000\n",
       "997    340000\n",
       "998    350000\n",
       "999    700000\n",
       "Name: selling_price, Length: 1000, dtype: int32"
      ]
     },
     "execution_count": 22,
     "metadata": {},
     "output_type": "execute_result"
    }
   ],
   "source": [
    "ytest.astype(int)"
   ]
  },
  {
   "cell_type": "code",
   "execution_count": 23,
   "metadata": {
    "colab": {
     "base_uri": "https://localhost:8080/"
    },
    "executionInfo": {
     "elapsed": 585,
     "status": "ok",
     "timestamp": 1721382487795,
     "user": {
      "displayName": "Yozhik31",
      "userId": "07739058683274005436"
     },
     "user_tz": -180
    },
    "id": "VxjaQPL-OCiR",
    "outputId": "f74cca10-b1f7-4581-b29c-cf6a50de38c0"
   },
   "outputs": [
    {
     "data": {
      "text/plain": [
       "count    1.000000e+03\n",
       "mean     6.179010e+05\n",
       "std      7.585539e+05\n",
       "min      3.100000e+04\n",
       "25%      2.500000e+05\n",
       "50%      4.349990e+05\n",
       "75%      6.700000e+05\n",
       "max      6.000000e+06\n",
       "Name: selling_price, dtype: float64"
      ]
     },
     "execution_count": 23,
     "metadata": {},
     "output_type": "execute_result"
    }
   ],
   "source": [
    "ytest.describe()"
   ]
  },
  {
   "cell_type": "code",
   "execution_count": 24,
   "metadata": {
    "colab": {
     "base_uri": "https://localhost:8080/"
    },
    "executionInfo": {
     "elapsed": 487,
     "status": "ok",
     "timestamp": 1721380069947,
     "user": {
      "displayName": "Yozhik31",
      "userId": "07739058683274005436"
     },
     "user_tz": -180
    },
    "id": "fcfWKHjwIYcz",
    "outputId": "f154ea5e-ee29-4913-f683-f8f5320627c4"
   },
   "outputs": [
    {
     "data": {
      "text/plain": [
       "count    6.699000e+03\n",
       "mean     6.583887e+05\n",
       "std      8.203222e+05\n",
       "min      2.999900e+04\n",
       "25%      2.750000e+05\n",
       "50%      4.599990e+05\n",
       "75%      7.000000e+05\n",
       "max      1.000000e+07\n",
       "Name: selling_price, dtype: float64"
      ]
     },
     "execution_count": 24,
     "metadata": {},
     "output_type": "execute_result"
    }
   ],
   "source": [
    "ytrain.describe()"
   ]
  },
  {
   "cell_type": "markdown",
   "metadata": {
    "id": "-Uu-VYCCuoK0"
   },
   "source": [
    "### Test"
   ]
  },
  {
   "cell_type": "code",
   "execution_count": 25,
   "metadata": {
    "colab": {
     "base_uri": "https://localhost:8080/"
    },
    "executionInfo": {
     "elapsed": 835,
     "status": "ok",
     "timestamp": 1721382492648,
     "user": {
      "displayName": "Yozhik31",
      "userId": "07739058683274005436"
     },
     "user_tz": -180
    },
    "id": "Xxfj-VAvvfks",
    "outputId": "22b5f7c7-68d9-4582-a218-b661cfa6c8b1"
   },
   "outputs": [
    {
     "name": "stdout",
     "output_type": "stream",
     "text": [
      "0       140.0\n",
      "1       215.0\n",
      "2       129.0\n",
      "3       251.0\n",
      "4       165.0\n",
      "        ...  \n",
      "995    1981.0\n",
      "996     186.0\n",
      "997     230.0\n",
      "998    2036.0\n",
      "999     260.0\n",
      "Name: mileage, Length: 1000, dtype: float64\n"
     ]
    }
   ],
   "source": [
    "mileage_seri_test = Xtest['mileage']\n",
    "mileage_seri_test = mileage_seri_test.astype(str).str.replace('[^0-9]', '', regex=True)\n",
    "mileage_seri_test = pd.to_numeric(mileage_seri_test, errors='coerce')\n",
    "print(mileage_seri_test)"
   ]
  },
  {
   "cell_type": "code",
   "execution_count": 26,
   "metadata": {
    "executionInfo": {
     "elapsed": 713,
     "status": "ok",
     "timestamp": 1721382495907,
     "user": {
      "displayName": "Yozhik31",
      "userId": "07739058683274005436"
     },
     "user_tz": -180
    },
    "id": "lRe5X7ipwz9b"
   },
   "outputs": [],
   "source": [
    "Xtest['mileage'] = mileage_seri_test"
   ]
  },
  {
   "cell_type": "code",
   "execution_count": 27,
   "metadata": {
    "colab": {
     "base_uri": "https://localhost:8080/"
    },
    "executionInfo": {
     "elapsed": 490,
     "status": "ok",
     "timestamp": 1721382498655,
     "user": {
      "displayName": "Yozhik31",
      "userId": "07739058683274005436"
     },
     "user_tz": -180
    },
    "id": "bKtTze-3xAHO",
    "outputId": "dca53984-7785-42f7-976f-74481a3e2018"
   },
   "outputs": [
    {
     "name": "stdout",
     "output_type": "stream",
     "text": [
      "0      2498.0\n",
      "1      1497.0\n",
      "2      1799.0\n",
      "3      1498.0\n",
      "4      1172.0\n",
      "        ...  \n",
      "995    1086.0\n",
      "996    1197.0\n",
      "997    1396.0\n",
      "998    1197.0\n",
      "999    1498.0\n",
      "Name: engine, Length: 1000, dtype: float64\n"
     ]
    }
   ],
   "source": [
    "engine_seri_test = Xtest['engine']\n",
    "engine_seri_test = engine_seri_test.astype(str).str.replace('[^0-9]', '', regex=True)\n",
    "engine_seri_test = pd.to_numeric(engine_seri_test, errors='coerce')\n",
    "print(engine_seri_test)"
   ]
  },
  {
   "cell_type": "code",
   "execution_count": 28,
   "metadata": {
    "executionInfo": {
     "elapsed": 548,
     "status": "ok",
     "timestamp": 1721382501664,
     "user": {
      "displayName": "Yozhik31",
      "userId": "07739058683274005436"
     },
     "user_tz": -180
    },
    "id": "tFjl1UeQxedn"
   },
   "outputs": [],
   "source": [
    "Xtest['engine'] = engine_seri_test"
   ]
  },
  {
   "cell_type": "code",
   "execution_count": 29,
   "metadata": {
    "colab": {
     "base_uri": "https://localhost:8080/"
    },
    "executionInfo": {
     "elapsed": 3,
     "status": "ok",
     "timestamp": 1721382503388,
     "user": {
      "displayName": "Yozhik31",
      "userId": "07739058683274005436"
     },
     "user_tz": -180
    },
    "id": "v5vB7F1UxliZ",
    "outputId": "6927e871-5006-420a-ab0e-889f6b811296"
   },
   "outputs": [
    {
     "name": "stdout",
     "output_type": "stream",
     "text": [
      "0       112.0\n",
      "1      1085.0\n",
      "2       130.0\n",
      "3       986.0\n",
      "4        65.0\n",
      "        ...  \n",
      "995    6805.0\n",
      "996    8183.0\n",
      "997      90.0\n",
      "998     789.0\n",
      "999     986.0\n",
      "Name: max_power, Length: 1000, dtype: float64\n"
     ]
    }
   ],
   "source": [
    "max_power_seri_test = Xtest['max_power']\n",
    "max_power_seri_test = max_power_seri_test.astype(str).str.replace('[^0-9]', '', regex=True)\n",
    "max_power_seri_test = pd.to_numeric(max_power_seri_test, errors='coerce')\n",
    "print(max_power_seri_test)"
   ]
  },
  {
   "cell_type": "code",
   "execution_count": 30,
   "metadata": {
    "executionInfo": {
     "elapsed": 618,
     "status": "ok",
     "timestamp": 1721382507203,
     "user": {
      "displayName": "Yozhik31",
      "userId": "07739058683274005436"
     },
     "user_tz": -180
    },
    "id": "aZsU6zqux9g9"
   },
   "outputs": [],
   "source": [
    "Xtest['max_power'] = max_power_seri_test"
   ]
  },
  {
   "cell_type": "code",
   "execution_count": 31,
   "metadata": {
    "colab": {
     "base_uri": "https://localhost:8080/",
     "height": 424
    },
    "executionInfo": {
     "elapsed": 4,
     "status": "ok",
     "timestamp": 1721382510255,
     "user": {
      "displayName": "Yozhik31",
      "userId": "07739058683274005436"
     },
     "user_tz": -180
    },
    "id": "C3CvuzcEyEy5",
    "outputId": "1036fc69-8b19-4156-86bb-57fd4a4510d8"
   },
   "outputs": [
    {
     "data": {
      "text/html": [
       "<div>\n",
       "<style scoped>\n",
       "    .dataframe tbody tr th:only-of-type {\n",
       "        vertical-align: middle;\n",
       "    }\n",
       "\n",
       "    .dataframe tbody tr th {\n",
       "        vertical-align: top;\n",
       "    }\n",
       "\n",
       "    .dataframe thead th {\n",
       "        text-align: right;\n",
       "    }\n",
       "</style>\n",
       "<table border=\"1\" class=\"dataframe\">\n",
       "  <thead>\n",
       "    <tr style=\"text-align: right;\">\n",
       "      <th></th>\n",
       "      <th>name</th>\n",
       "      <th>year</th>\n",
       "      <th>km_driven</th>\n",
       "      <th>fuel</th>\n",
       "      <th>seller_type</th>\n",
       "      <th>transmission</th>\n",
       "      <th>owner</th>\n",
       "      <th>mileage</th>\n",
       "      <th>engine</th>\n",
       "      <th>max_power</th>\n",
       "      <th>torque</th>\n",
       "      <th>seats</th>\n",
       "    </tr>\n",
       "  </thead>\n",
       "  <tbody>\n",
       "    <tr>\n",
       "      <th>0</th>\n",
       "      <td>Mahindra Xylo E4 BS IV</td>\n",
       "      <td>2010</td>\n",
       "      <td>168000</td>\n",
       "      <td>Diesel</td>\n",
       "      <td>Individual</td>\n",
       "      <td>Manual</td>\n",
       "      <td>First Owner</td>\n",
       "      <td>140.0</td>\n",
       "      <td>2498.0</td>\n",
       "      <td>112.0</td>\n",
       "      <td>260 Nm at 1800-2200 rpm</td>\n",
       "      <td>7.0</td>\n",
       "    </tr>\n",
       "    <tr>\n",
       "      <th>1</th>\n",
       "      <td>Tata Nexon 1.5 Revotorq XE</td>\n",
       "      <td>2017</td>\n",
       "      <td>25000</td>\n",
       "      <td>Diesel</td>\n",
       "      <td>Individual</td>\n",
       "      <td>Manual</td>\n",
       "      <td>First Owner</td>\n",
       "      <td>215.0</td>\n",
       "      <td>1497.0</td>\n",
       "      <td>1085.0</td>\n",
       "      <td>260Nm@ 1500-2750rpm</td>\n",
       "      <td>5.0</td>\n",
       "    </tr>\n",
       "    <tr>\n",
       "      <th>2</th>\n",
       "      <td>Honda Civic 1.8 S AT</td>\n",
       "      <td>2007</td>\n",
       "      <td>218463</td>\n",
       "      <td>Petrol</td>\n",
       "      <td>Individual</td>\n",
       "      <td>Automatic</td>\n",
       "      <td>First Owner</td>\n",
       "      <td>129.0</td>\n",
       "      <td>1799.0</td>\n",
       "      <td>130.0</td>\n",
       "      <td>172Nm@ 4300rpm</td>\n",
       "      <td>5.0</td>\n",
       "    </tr>\n",
       "    <tr>\n",
       "      <th>3</th>\n",
       "      <td>Honda City i DTEC VX</td>\n",
       "      <td>2015</td>\n",
       "      <td>173000</td>\n",
       "      <td>Diesel</td>\n",
       "      <td>Individual</td>\n",
       "      <td>Manual</td>\n",
       "      <td>First Owner</td>\n",
       "      <td>251.0</td>\n",
       "      <td>1498.0</td>\n",
       "      <td>986.0</td>\n",
       "      <td>200Nm@ 1750rpm</td>\n",
       "      <td>5.0</td>\n",
       "    </tr>\n",
       "    <tr>\n",
       "      <th>4</th>\n",
       "      <td>Tata Indica Vista Aura 1.2 Safire BSIV</td>\n",
       "      <td>2011</td>\n",
       "      <td>70000</td>\n",
       "      <td>Petrol</td>\n",
       "      <td>Individual</td>\n",
       "      <td>Manual</td>\n",
       "      <td>Second Owner</td>\n",
       "      <td>165.0</td>\n",
       "      <td>1172.0</td>\n",
       "      <td>65.0</td>\n",
       "      <td>96  Nm at 3000  rpm</td>\n",
       "      <td>5.0</td>\n",
       "    </tr>\n",
       "    <tr>\n",
       "      <th>...</th>\n",
       "      <td>...</td>\n",
       "      <td>...</td>\n",
       "      <td>...</td>\n",
       "      <td>...</td>\n",
       "      <td>...</td>\n",
       "      <td>...</td>\n",
       "      <td>...</td>\n",
       "      <td>...</td>\n",
       "      <td>...</td>\n",
       "      <td>...</td>\n",
       "      <td>...</td>\n",
       "      <td>...</td>\n",
       "    </tr>\n",
       "    <tr>\n",
       "      <th>995</th>\n",
       "      <td>Hyundai i10 Magna 1.1L</td>\n",
       "      <td>2008</td>\n",
       "      <td>100000</td>\n",
       "      <td>Petrol</td>\n",
       "      <td>Individual</td>\n",
       "      <td>Manual</td>\n",
       "      <td>Second Owner</td>\n",
       "      <td>1981.0</td>\n",
       "      <td>1086.0</td>\n",
       "      <td>6805.0</td>\n",
       "      <td>99.04Nm@ 4500rpm</td>\n",
       "      <td>5.0</td>\n",
       "    </tr>\n",
       "    <tr>\n",
       "      <th>996</th>\n",
       "      <td>Hyundai i20 2015-2017 Sportz 1.2</td>\n",
       "      <td>2017</td>\n",
       "      <td>50000</td>\n",
       "      <td>Petrol</td>\n",
       "      <td>Individual</td>\n",
       "      <td>Manual</td>\n",
       "      <td>Second Owner</td>\n",
       "      <td>186.0</td>\n",
       "      <td>1197.0</td>\n",
       "      <td>8183.0</td>\n",
       "      <td>114.7Nm@ 4000rpm</td>\n",
       "      <td>5.0</td>\n",
       "    </tr>\n",
       "    <tr>\n",
       "      <th>997</th>\n",
       "      <td>Hyundai i20 Era Diesel</td>\n",
       "      <td>2009</td>\n",
       "      <td>40000</td>\n",
       "      <td>Diesel</td>\n",
       "      <td>Individual</td>\n",
       "      <td>Manual</td>\n",
       "      <td>First Owner</td>\n",
       "      <td>230.0</td>\n",
       "      <td>1396.0</td>\n",
       "      <td>90.0</td>\n",
       "      <td>22.4 kgm at 1750-2750rpm</td>\n",
       "      <td>5.0</td>\n",
       "    </tr>\n",
       "    <tr>\n",
       "      <th>998</th>\n",
       "      <td>Hyundai i10 Asta</td>\n",
       "      <td>2012</td>\n",
       "      <td>25000</td>\n",
       "      <td>Petrol</td>\n",
       "      <td>Individual</td>\n",
       "      <td>Manual</td>\n",
       "      <td>First Owner</td>\n",
       "      <td>2036.0</td>\n",
       "      <td>1197.0</td>\n",
       "      <td>789.0</td>\n",
       "      <td>111.8Nm@ 4000rpm</td>\n",
       "      <td>5.0</td>\n",
       "    </tr>\n",
       "    <tr>\n",
       "      <th>999</th>\n",
       "      <td>Honda City i DTec SV</td>\n",
       "      <td>2016</td>\n",
       "      <td>110000</td>\n",
       "      <td>Diesel</td>\n",
       "      <td>Individual</td>\n",
       "      <td>Manual</td>\n",
       "      <td>First Owner</td>\n",
       "      <td>260.0</td>\n",
       "      <td>1498.0</td>\n",
       "      <td>986.0</td>\n",
       "      <td>200Nm@ 1750rpm</td>\n",
       "      <td>5.0</td>\n",
       "    </tr>\n",
       "  </tbody>\n",
       "</table>\n",
       "<p>1000 rows × 12 columns</p>\n",
       "</div>"
      ],
      "text/plain": [
       "                                       name  year  km_driven    fuel  \\\n",
       "0                    Mahindra Xylo E4 BS IV  2010     168000  Diesel   \n",
       "1                Tata Nexon 1.5 Revotorq XE  2017      25000  Diesel   \n",
       "2                      Honda Civic 1.8 S AT  2007     218463  Petrol   \n",
       "3                      Honda City i DTEC VX  2015     173000  Diesel   \n",
       "4    Tata Indica Vista Aura 1.2 Safire BSIV  2011      70000  Petrol   \n",
       "..                                      ...   ...        ...     ...   \n",
       "995                  Hyundai i10 Magna 1.1L  2008     100000  Petrol   \n",
       "996        Hyundai i20 2015-2017 Sportz 1.2  2017      50000  Petrol   \n",
       "997                  Hyundai i20 Era Diesel  2009      40000  Diesel   \n",
       "998                        Hyundai i10 Asta  2012      25000  Petrol   \n",
       "999                    Honda City i DTec SV  2016     110000  Diesel   \n",
       "\n",
       "    seller_type transmission         owner  mileage  engine  max_power  \\\n",
       "0    Individual       Manual   First Owner    140.0  2498.0      112.0   \n",
       "1    Individual       Manual   First Owner    215.0  1497.0     1085.0   \n",
       "2    Individual    Automatic   First Owner    129.0  1799.0      130.0   \n",
       "3    Individual       Manual   First Owner    251.0  1498.0      986.0   \n",
       "4    Individual       Manual  Second Owner    165.0  1172.0       65.0   \n",
       "..          ...          ...           ...      ...     ...        ...   \n",
       "995  Individual       Manual  Second Owner   1981.0  1086.0     6805.0   \n",
       "996  Individual       Manual  Second Owner    186.0  1197.0     8183.0   \n",
       "997  Individual       Manual   First Owner    230.0  1396.0       90.0   \n",
       "998  Individual       Manual   First Owner   2036.0  1197.0      789.0   \n",
       "999  Individual       Manual   First Owner    260.0  1498.0      986.0   \n",
       "\n",
       "                       torque  seats  \n",
       "0     260 Nm at 1800-2200 rpm    7.0  \n",
       "1         260Nm@ 1500-2750rpm    5.0  \n",
       "2              172Nm@ 4300rpm    5.0  \n",
       "3              200Nm@ 1750rpm    5.0  \n",
       "4        96  Nm at 3000  rpm     5.0  \n",
       "..                        ...    ...  \n",
       "995          99.04Nm@ 4500rpm    5.0  \n",
       "996          114.7Nm@ 4000rpm    5.0  \n",
       "997  22.4 kgm at 1750-2750rpm    5.0  \n",
       "998          111.8Nm@ 4000rpm    5.0  \n",
       "999            200Nm@ 1750rpm    5.0  \n",
       "\n",
       "[1000 rows x 12 columns]"
      ]
     },
     "execution_count": 31,
     "metadata": {},
     "output_type": "execute_result"
    }
   ],
   "source": [
    "Xtest"
   ]
  },
  {
   "cell_type": "markdown",
   "metadata": {
    "id": "p43qUhHg-_-e"
   },
   "source": [
    "Оставьте в данных только шесть числовых столбцов:\n",
    "\n",
    "year, km_driven, seats, engine, mileage, max_power"
   ]
  },
  {
   "cell_type": "code",
   "execution_count": 32,
   "metadata": {
    "executionInfo": {
     "elapsed": 522,
     "status": "ok",
     "timestamp": 1721382514744,
     "user": {
      "displayName": "Yozhik31",
      "userId": "07739058683274005436"
     },
     "user_tz": -180
    },
    "id": "vP0FYosyix7_"
   },
   "outputs": [],
   "source": [
    "# Ваш код здесь\n",
    "X_train = Xtrain[['year', 'km_driven', 'seats', 'engine', 'mileage', 'max_power']]"
   ]
  },
  {
   "cell_type": "code",
   "execution_count": 33,
   "metadata": {
    "colab": {
     "base_uri": "https://localhost:8080/",
     "height": 424
    },
    "executionInfo": {
     "elapsed": 6,
     "status": "ok",
     "timestamp": 1721382517259,
     "user": {
      "displayName": "Yozhik31",
      "userId": "07739058683274005436"
     },
     "user_tz": -180
    },
    "id": "EJpAc1U0y2aV",
    "outputId": "9900fab0-3bc6-4f1c-907c-2250e1a32fb1"
   },
   "outputs": [
    {
     "data": {
      "text/html": [
       "<div>\n",
       "<style scoped>\n",
       "    .dataframe tbody tr th:only-of-type {\n",
       "        vertical-align: middle;\n",
       "    }\n",
       "\n",
       "    .dataframe tbody tr th {\n",
       "        vertical-align: top;\n",
       "    }\n",
       "\n",
       "    .dataframe thead th {\n",
       "        text-align: right;\n",
       "    }\n",
       "</style>\n",
       "<table border=\"1\" class=\"dataframe\">\n",
       "  <thead>\n",
       "    <tr style=\"text-align: right;\">\n",
       "      <th></th>\n",
       "      <th>year</th>\n",
       "      <th>km_driven</th>\n",
       "      <th>seats</th>\n",
       "      <th>engine</th>\n",
       "      <th>mileage</th>\n",
       "      <th>max_power</th>\n",
       "    </tr>\n",
       "  </thead>\n",
       "  <tbody>\n",
       "    <tr>\n",
       "      <th>0</th>\n",
       "      <td>2014.0</td>\n",
       "      <td>145500.0</td>\n",
       "      <td>5.0</td>\n",
       "      <td>1248.0</td>\n",
       "      <td>234.0</td>\n",
       "      <td>74.0</td>\n",
       "    </tr>\n",
       "    <tr>\n",
       "      <th>1</th>\n",
       "      <td>2014.0</td>\n",
       "      <td>120000.0</td>\n",
       "      <td>5.0</td>\n",
       "      <td>1498.0</td>\n",
       "      <td>2114.0</td>\n",
       "      <td>10352.0</td>\n",
       "    </tr>\n",
       "    <tr>\n",
       "      <th>2</th>\n",
       "      <td>2010.0</td>\n",
       "      <td>127000.0</td>\n",
       "      <td>5.0</td>\n",
       "      <td>1396.0</td>\n",
       "      <td>230.0</td>\n",
       "      <td>90.0</td>\n",
       "    </tr>\n",
       "    <tr>\n",
       "      <th>4</th>\n",
       "      <td>2017.0</td>\n",
       "      <td>45000.0</td>\n",
       "      <td>5.0</td>\n",
       "      <td>1197.0</td>\n",
       "      <td>2014.0</td>\n",
       "      <td>8186.0</td>\n",
       "    </tr>\n",
       "    <tr>\n",
       "      <th>6</th>\n",
       "      <td>2001.0</td>\n",
       "      <td>5000.0</td>\n",
       "      <td>4.0</td>\n",
       "      <td>796.0</td>\n",
       "      <td>161.0</td>\n",
       "      <td>37.0</td>\n",
       "    </tr>\n",
       "    <tr>\n",
       "      <th>...</th>\n",
       "      <td>...</td>\n",
       "      <td>...</td>\n",
       "      <td>...</td>\n",
       "      <td>...</td>\n",
       "      <td>...</td>\n",
       "      <td>...</td>\n",
       "    </tr>\n",
       "    <tr>\n",
       "      <th>6992</th>\n",
       "      <td>2013.0</td>\n",
       "      <td>50000.0</td>\n",
       "      <td>5.0</td>\n",
       "      <td>998.0</td>\n",
       "      <td>189.0</td>\n",
       "      <td>671.0</td>\n",
       "    </tr>\n",
       "    <tr>\n",
       "      <th>6993</th>\n",
       "      <td>2013.0</td>\n",
       "      <td>110000.0</td>\n",
       "      <td>5.0</td>\n",
       "      <td>1197.0</td>\n",
       "      <td>185.0</td>\n",
       "      <td>8285.0</td>\n",
       "    </tr>\n",
       "    <tr>\n",
       "      <th>6995</th>\n",
       "      <td>2009.0</td>\n",
       "      <td>120000.0</td>\n",
       "      <td>5.0</td>\n",
       "      <td>1248.0</td>\n",
       "      <td>193.0</td>\n",
       "      <td>739.0</td>\n",
       "    </tr>\n",
       "    <tr>\n",
       "      <th>6996</th>\n",
       "      <td>2013.0</td>\n",
       "      <td>25000.0</td>\n",
       "      <td>5.0</td>\n",
       "      <td>1396.0</td>\n",
       "      <td>2357.0</td>\n",
       "      <td>70.0</td>\n",
       "    </tr>\n",
       "    <tr>\n",
       "      <th>6997</th>\n",
       "      <td>2013.0</td>\n",
       "      <td>25000.0</td>\n",
       "      <td>5.0</td>\n",
       "      <td>1396.0</td>\n",
       "      <td>2357.0</td>\n",
       "      <td>70.0</td>\n",
       "    </tr>\n",
       "  </tbody>\n",
       "</table>\n",
       "<p>6699 rows × 6 columns</p>\n",
       "</div>"
      ],
      "text/plain": [
       "        year  km_driven  seats  engine  mileage  max_power\n",
       "0     2014.0   145500.0    5.0  1248.0    234.0       74.0\n",
       "1     2014.0   120000.0    5.0  1498.0   2114.0    10352.0\n",
       "2     2010.0   127000.0    5.0  1396.0    230.0       90.0\n",
       "4     2017.0    45000.0    5.0  1197.0   2014.0     8186.0\n",
       "6     2001.0     5000.0    4.0   796.0    161.0       37.0\n",
       "...      ...        ...    ...     ...      ...        ...\n",
       "6992  2013.0    50000.0    5.0   998.0    189.0      671.0\n",
       "6993  2013.0   110000.0    5.0  1197.0    185.0     8285.0\n",
       "6995  2009.0   120000.0    5.0  1248.0    193.0      739.0\n",
       "6996  2013.0    25000.0    5.0  1396.0   2357.0       70.0\n",
       "6997  2013.0    25000.0    5.0  1396.0   2357.0       70.0\n",
       "\n",
       "[6699 rows x 6 columns]"
      ]
     },
     "execution_count": 33,
     "metadata": {},
     "output_type": "execute_result"
    }
   ],
   "source": [
    "X_train"
   ]
  },
  {
   "cell_type": "code",
   "execution_count": 34,
   "metadata": {
    "colab": {
     "base_uri": "https://localhost:8080/"
    },
    "executionInfo": {
     "elapsed": 503,
     "status": "ok",
     "timestamp": 1721382521510,
     "user": {
      "displayName": "Yozhik31",
      "userId": "07739058683274005436"
     },
     "user_tz": -180
    },
    "id": "aYqxlv7Y_w4S",
    "outputId": "c711f219-51dd-4ba4-c776-9a3b044cc22e"
   },
   "outputs": [
    {
     "data": {
      "text/plain": [
       "year           0\n",
       "km_driven      0\n",
       "seats        202\n",
       "engine       202\n",
       "mileage      202\n",
       "max_power    196\n",
       "dtype: int64"
      ]
     },
     "execution_count": 34,
     "metadata": {},
     "output_type": "execute_result"
    }
   ],
   "source": [
    "X_train.isnull().sum()"
   ]
  },
  {
   "cell_type": "code",
   "execution_count": 35,
   "metadata": {
    "executionInfo": {
     "elapsed": 2,
     "status": "ok",
     "timestamp": 1721382523905,
     "user": {
      "displayName": "Yozhik31",
      "userId": "07739058683274005436"
     },
     "user_tz": -180
    },
    "id": "Fv9NzpV4y8dS"
   },
   "outputs": [],
   "source": [
    "X_test = Xtest[['year', 'km_driven', 'seats', 'engine', 'mileage', 'max_power']]"
   ]
  },
  {
   "cell_type": "code",
   "execution_count": 36,
   "metadata": {
    "colab": {
     "base_uri": "https://localhost:8080/",
     "height": 424
    },
    "executionInfo": {
     "elapsed": 484,
     "status": "ok",
     "timestamp": 1721382526266,
     "user": {
      "displayName": "Yozhik31",
      "userId": "07739058683274005436"
     },
     "user_tz": -180
    },
    "id": "5cQ33xMAzEN1",
    "outputId": "4f3ad570-52fd-46b7-f400-0bb7b6bc641d"
   },
   "outputs": [
    {
     "data": {
      "text/html": [
       "<div>\n",
       "<style scoped>\n",
       "    .dataframe tbody tr th:only-of-type {\n",
       "        vertical-align: middle;\n",
       "    }\n",
       "\n",
       "    .dataframe tbody tr th {\n",
       "        vertical-align: top;\n",
       "    }\n",
       "\n",
       "    .dataframe thead th {\n",
       "        text-align: right;\n",
       "    }\n",
       "</style>\n",
       "<table border=\"1\" class=\"dataframe\">\n",
       "  <thead>\n",
       "    <tr style=\"text-align: right;\">\n",
       "      <th></th>\n",
       "      <th>year</th>\n",
       "      <th>km_driven</th>\n",
       "      <th>seats</th>\n",
       "      <th>engine</th>\n",
       "      <th>mileage</th>\n",
       "      <th>max_power</th>\n",
       "    </tr>\n",
       "  </thead>\n",
       "  <tbody>\n",
       "    <tr>\n",
       "      <th>0</th>\n",
       "      <td>2010</td>\n",
       "      <td>168000</td>\n",
       "      <td>7.0</td>\n",
       "      <td>2498.0</td>\n",
       "      <td>140.0</td>\n",
       "      <td>112.0</td>\n",
       "    </tr>\n",
       "    <tr>\n",
       "      <th>1</th>\n",
       "      <td>2017</td>\n",
       "      <td>25000</td>\n",
       "      <td>5.0</td>\n",
       "      <td>1497.0</td>\n",
       "      <td>215.0</td>\n",
       "      <td>1085.0</td>\n",
       "    </tr>\n",
       "    <tr>\n",
       "      <th>2</th>\n",
       "      <td>2007</td>\n",
       "      <td>218463</td>\n",
       "      <td>5.0</td>\n",
       "      <td>1799.0</td>\n",
       "      <td>129.0</td>\n",
       "      <td>130.0</td>\n",
       "    </tr>\n",
       "    <tr>\n",
       "      <th>3</th>\n",
       "      <td>2015</td>\n",
       "      <td>173000</td>\n",
       "      <td>5.0</td>\n",
       "      <td>1498.0</td>\n",
       "      <td>251.0</td>\n",
       "      <td>986.0</td>\n",
       "    </tr>\n",
       "    <tr>\n",
       "      <th>4</th>\n",
       "      <td>2011</td>\n",
       "      <td>70000</td>\n",
       "      <td>5.0</td>\n",
       "      <td>1172.0</td>\n",
       "      <td>165.0</td>\n",
       "      <td>65.0</td>\n",
       "    </tr>\n",
       "    <tr>\n",
       "      <th>...</th>\n",
       "      <td>...</td>\n",
       "      <td>...</td>\n",
       "      <td>...</td>\n",
       "      <td>...</td>\n",
       "      <td>...</td>\n",
       "      <td>...</td>\n",
       "    </tr>\n",
       "    <tr>\n",
       "      <th>995</th>\n",
       "      <td>2008</td>\n",
       "      <td>100000</td>\n",
       "      <td>5.0</td>\n",
       "      <td>1086.0</td>\n",
       "      <td>1981.0</td>\n",
       "      <td>6805.0</td>\n",
       "    </tr>\n",
       "    <tr>\n",
       "      <th>996</th>\n",
       "      <td>2017</td>\n",
       "      <td>50000</td>\n",
       "      <td>5.0</td>\n",
       "      <td>1197.0</td>\n",
       "      <td>186.0</td>\n",
       "      <td>8183.0</td>\n",
       "    </tr>\n",
       "    <tr>\n",
       "      <th>997</th>\n",
       "      <td>2009</td>\n",
       "      <td>40000</td>\n",
       "      <td>5.0</td>\n",
       "      <td>1396.0</td>\n",
       "      <td>230.0</td>\n",
       "      <td>90.0</td>\n",
       "    </tr>\n",
       "    <tr>\n",
       "      <th>998</th>\n",
       "      <td>2012</td>\n",
       "      <td>25000</td>\n",
       "      <td>5.0</td>\n",
       "      <td>1197.0</td>\n",
       "      <td>2036.0</td>\n",
       "      <td>789.0</td>\n",
       "    </tr>\n",
       "    <tr>\n",
       "      <th>999</th>\n",
       "      <td>2016</td>\n",
       "      <td>110000</td>\n",
       "      <td>5.0</td>\n",
       "      <td>1498.0</td>\n",
       "      <td>260.0</td>\n",
       "      <td>986.0</td>\n",
       "    </tr>\n",
       "  </tbody>\n",
       "</table>\n",
       "<p>1000 rows × 6 columns</p>\n",
       "</div>"
      ],
      "text/plain": [
       "     year  km_driven  seats  engine  mileage  max_power\n",
       "0    2010     168000    7.0  2498.0    140.0      112.0\n",
       "1    2017      25000    5.0  1497.0    215.0     1085.0\n",
       "2    2007     218463    5.0  1799.0    129.0      130.0\n",
       "3    2015     173000    5.0  1498.0    251.0      986.0\n",
       "4    2011      70000    5.0  1172.0    165.0       65.0\n",
       "..    ...        ...    ...     ...      ...        ...\n",
       "995  2008     100000    5.0  1086.0   1981.0     6805.0\n",
       "996  2017      50000    5.0  1197.0    186.0     8183.0\n",
       "997  2009      40000    5.0  1396.0    230.0       90.0\n",
       "998  2012      25000    5.0  1197.0   2036.0      789.0\n",
       "999  2016     110000    5.0  1498.0    260.0      986.0\n",
       "\n",
       "[1000 rows x 6 columns]"
      ]
     },
     "execution_count": 36,
     "metadata": {},
     "output_type": "execute_result"
    }
   ],
   "source": [
    "X_test"
   ]
  },
  {
   "cell_type": "code",
   "execution_count": 37,
   "metadata": {
    "colab": {
     "base_uri": "https://localhost:8080/"
    },
    "executionInfo": {
     "elapsed": 833,
     "status": "ok",
     "timestamp": 1721382530693,
     "user": {
      "displayName": "Yozhik31",
      "userId": "07739058683274005436"
     },
     "user_tz": -180
    },
    "id": "3WudMzyhA-4S",
    "outputId": "24995161-447f-4d47-a808-442d1ce0974b"
   },
   "outputs": [
    {
     "data": {
      "text/plain": [
       "year          0\n",
       "km_driven     0\n",
       "seats        19\n",
       "engine       19\n",
       "mileage      19\n",
       "max_power    19\n",
       "dtype: int64"
      ]
     },
     "execution_count": 37,
     "metadata": {},
     "output_type": "execute_result"
    }
   ],
   "source": [
    "X_test.isnull().sum()"
   ]
  },
  {
   "cell_type": "markdown",
   "metadata": {
    "id": "Q0AsRR_69ZFH"
   },
   "source": [
    "Теперь заполните пропуски следующим образом:\n",
    "\n",
    "*    вычислите средние значения по столбцам тренировочной выборки;\n",
    "\n",
    "*    добавьте в пропуски в тренировочных и тестовых данных вычисленные средние."
   ]
  },
  {
   "cell_type": "code",
   "execution_count": 38,
   "metadata": {
    "executionInfo": {
     "elapsed": 1275,
     "status": "ok",
     "timestamp": 1721382536395,
     "user": {
      "displayName": "Yozhik31",
      "userId": "07739058683274005436"
     },
     "user_tz": -180
    },
    "id": "57USjAIj7BYJ"
   },
   "outputs": [],
   "source": [
    "X_train[['engine', 'seats', 'mileage', 'max_power']] = X_train[['engine', 'seats', 'mileage', 'max_power']]. fillna(X_train[['engine', 'seats', 'mileage', 'max_power']].mean())"
   ]
  },
  {
   "cell_type": "code",
   "execution_count": 39,
   "metadata": {
    "colab": {
     "base_uri": "https://localhost:8080/",
     "height": 424
    },
    "executionInfo": {
     "elapsed": 3,
     "status": "ok",
     "timestamp": 1721382539526,
     "user": {
      "displayName": "Yozhik31",
      "userId": "07739058683274005436"
     },
     "user_tz": -180
    },
    "id": "M4leb5I95I3o",
    "outputId": "d369840e-6031-4f07-e377-b2dae35099d9"
   },
   "outputs": [
    {
     "data": {
      "text/html": [
       "<div>\n",
       "<style scoped>\n",
       "    .dataframe tbody tr th:only-of-type {\n",
       "        vertical-align: middle;\n",
       "    }\n",
       "\n",
       "    .dataframe tbody tr th {\n",
       "        vertical-align: top;\n",
       "    }\n",
       "\n",
       "    .dataframe thead th {\n",
       "        text-align: right;\n",
       "    }\n",
       "</style>\n",
       "<table border=\"1\" class=\"dataframe\">\n",
       "  <thead>\n",
       "    <tr style=\"text-align: right;\">\n",
       "      <th></th>\n",
       "      <th>year</th>\n",
       "      <th>km_driven</th>\n",
       "      <th>seats</th>\n",
       "      <th>engine</th>\n",
       "      <th>mileage</th>\n",
       "      <th>max_power</th>\n",
       "    </tr>\n",
       "  </thead>\n",
       "  <tbody>\n",
       "    <tr>\n",
       "      <th>0</th>\n",
       "      <td>2014</td>\n",
       "      <td>145500</td>\n",
       "      <td>5</td>\n",
       "      <td>1248</td>\n",
       "      <td>234</td>\n",
       "      <td>74</td>\n",
       "    </tr>\n",
       "    <tr>\n",
       "      <th>1</th>\n",
       "      <td>2014</td>\n",
       "      <td>120000</td>\n",
       "      <td>5</td>\n",
       "      <td>1498</td>\n",
       "      <td>2114</td>\n",
       "      <td>10352</td>\n",
       "    </tr>\n",
       "    <tr>\n",
       "      <th>2</th>\n",
       "      <td>2010</td>\n",
       "      <td>127000</td>\n",
       "      <td>5</td>\n",
       "      <td>1396</td>\n",
       "      <td>230</td>\n",
       "      <td>90</td>\n",
       "    </tr>\n",
       "    <tr>\n",
       "      <th>4</th>\n",
       "      <td>2017</td>\n",
       "      <td>45000</td>\n",
       "      <td>5</td>\n",
       "      <td>1197</td>\n",
       "      <td>2014</td>\n",
       "      <td>8186</td>\n",
       "    </tr>\n",
       "    <tr>\n",
       "      <th>6</th>\n",
       "      <td>2001</td>\n",
       "      <td>5000</td>\n",
       "      <td>4</td>\n",
       "      <td>796</td>\n",
       "      <td>161</td>\n",
       "      <td>37</td>\n",
       "    </tr>\n",
       "    <tr>\n",
       "      <th>...</th>\n",
       "      <td>...</td>\n",
       "      <td>...</td>\n",
       "      <td>...</td>\n",
       "      <td>...</td>\n",
       "      <td>...</td>\n",
       "      <td>...</td>\n",
       "    </tr>\n",
       "    <tr>\n",
       "      <th>6992</th>\n",
       "      <td>2013</td>\n",
       "      <td>50000</td>\n",
       "      <td>5</td>\n",
       "      <td>998</td>\n",
       "      <td>189</td>\n",
       "      <td>671</td>\n",
       "    </tr>\n",
       "    <tr>\n",
       "      <th>6993</th>\n",
       "      <td>2013</td>\n",
       "      <td>110000</td>\n",
       "      <td>5</td>\n",
       "      <td>1197</td>\n",
       "      <td>185</td>\n",
       "      <td>8285</td>\n",
       "    </tr>\n",
       "    <tr>\n",
       "      <th>6995</th>\n",
       "      <td>2009</td>\n",
       "      <td>120000</td>\n",
       "      <td>5</td>\n",
       "      <td>1248</td>\n",
       "      <td>193</td>\n",
       "      <td>739</td>\n",
       "    </tr>\n",
       "    <tr>\n",
       "      <th>6996</th>\n",
       "      <td>2013</td>\n",
       "      <td>25000</td>\n",
       "      <td>5</td>\n",
       "      <td>1396</td>\n",
       "      <td>2357</td>\n",
       "      <td>70</td>\n",
       "    </tr>\n",
       "    <tr>\n",
       "      <th>6997</th>\n",
       "      <td>2013</td>\n",
       "      <td>25000</td>\n",
       "      <td>5</td>\n",
       "      <td>1396</td>\n",
       "      <td>2357</td>\n",
       "      <td>70</td>\n",
       "    </tr>\n",
       "  </tbody>\n",
       "</table>\n",
       "<p>6699 rows × 6 columns</p>\n",
       "</div>"
      ],
      "text/plain": [
       "      year  km_driven  seats  engine  mileage  max_power\n",
       "0     2014     145500      5    1248      234         74\n",
       "1     2014     120000      5    1498     2114      10352\n",
       "2     2010     127000      5    1396      230         90\n",
       "4     2017      45000      5    1197     2014       8186\n",
       "6     2001       5000      4     796      161         37\n",
       "...    ...        ...    ...     ...      ...        ...\n",
       "6992  2013      50000      5     998      189        671\n",
       "6993  2013     110000      5    1197      185       8285\n",
       "6995  2009     120000      5    1248      193        739\n",
       "6996  2013      25000      5    1396     2357         70\n",
       "6997  2013      25000      5    1396     2357         70\n",
       "\n",
       "[6699 rows x 6 columns]"
      ]
     },
     "execution_count": 39,
     "metadata": {},
     "output_type": "execute_result"
    }
   ],
   "source": [
    "X_train.astype(int)"
   ]
  },
  {
   "cell_type": "code",
   "execution_count": 40,
   "metadata": {
    "colab": {
     "base_uri": "https://localhost:8080/"
    },
    "executionInfo": {
     "elapsed": 1201,
     "status": "ok",
     "timestamp": 1721382544650,
     "user": {
      "displayName": "Yozhik31",
      "userId": "07739058683274005436"
     },
     "user_tz": -180
    },
    "id": "1D1pnDkd_fgN",
    "outputId": "beb65b76-446d-4c04-e53a-3f794c4cfad3"
   },
   "outputs": [
    {
     "data": {
      "text/plain": [
       "year         0\n",
       "km_driven    0\n",
       "seats        0\n",
       "engine       0\n",
       "mileage      0\n",
       "max_power    0\n",
       "dtype: int64"
      ]
     },
     "execution_count": 40,
     "metadata": {},
     "output_type": "execute_result"
    }
   ],
   "source": [
    "X_train.isnull().sum()"
   ]
  },
  {
   "cell_type": "code",
   "execution_count": 41,
   "metadata": {
    "colab": {
     "base_uri": "https://localhost:8080/",
     "height": 238
    },
    "executionInfo": {
     "elapsed": 719,
     "status": "ok",
     "timestamp": 1721382548142,
     "user": {
      "displayName": "Yozhik31",
      "userId": "07739058683274005436"
     },
     "user_tz": -180
    },
    "id": "1mph_7N1GBNK",
    "outputId": "c4f7174d-6ba1-40f5-bd25-95555958bf75"
   },
   "outputs": [
    {
     "data": {
      "text/html": [
       "<div>\n",
       "<style scoped>\n",
       "    .dataframe tbody tr th:only-of-type {\n",
       "        vertical-align: middle;\n",
       "    }\n",
       "\n",
       "    .dataframe tbody tr th {\n",
       "        vertical-align: top;\n",
       "    }\n",
       "\n",
       "    .dataframe thead th {\n",
       "        text-align: right;\n",
       "    }\n",
       "</style>\n",
       "<table border=\"1\" class=\"dataframe\">\n",
       "  <thead>\n",
       "    <tr style=\"text-align: right;\">\n",
       "      <th></th>\n",
       "      <th>count</th>\n",
       "      <th>mean</th>\n",
       "      <th>std</th>\n",
       "      <th>min</th>\n",
       "      <th>25%</th>\n",
       "      <th>50%</th>\n",
       "      <th>75%</th>\n",
       "      <th>max</th>\n",
       "    </tr>\n",
       "  </thead>\n",
       "  <tbody>\n",
       "    <tr>\n",
       "      <th>year</th>\n",
       "      <td>6699.0</td>\n",
       "      <td>2014.074937</td>\n",
       "      <td>3.914516</td>\n",
       "      <td>1983.0</td>\n",
       "      <td>2012.0</td>\n",
       "      <td>2015.0</td>\n",
       "      <td>2017.0</td>\n",
       "      <td>2020.0</td>\n",
       "    </tr>\n",
       "    <tr>\n",
       "      <th>km_driven</th>\n",
       "      <td>6699.0</td>\n",
       "      <td>68071.735632</td>\n",
       "      <td>57801.387411</td>\n",
       "      <td>1.0</td>\n",
       "      <td>32250.0</td>\n",
       "      <td>60000.0</td>\n",
       "      <td>90000.0</td>\n",
       "      <td>2360457.0</td>\n",
       "    </tr>\n",
       "    <tr>\n",
       "      <th>seats</th>\n",
       "      <td>6699.0</td>\n",
       "      <td>5.423118</td>\n",
       "      <td>0.944239</td>\n",
       "      <td>2.0</td>\n",
       "      <td>5.0</td>\n",
       "      <td>5.0</td>\n",
       "      <td>5.0</td>\n",
       "      <td>14.0</td>\n",
       "    </tr>\n",
       "    <tr>\n",
       "      <th>engine</th>\n",
       "      <td>6699.0</td>\n",
       "      <td>1455.612744</td>\n",
       "      <td>498.356091</td>\n",
       "      <td>624.0</td>\n",
       "      <td>1197.0</td>\n",
       "      <td>1248.0</td>\n",
       "      <td>1582.0</td>\n",
       "      <td>3604.0</td>\n",
       "    </tr>\n",
       "    <tr>\n",
       "      <th>mileage</th>\n",
       "      <td>6699.0</td>\n",
       "      <td>991.148376</td>\n",
       "      <td>917.477937</td>\n",
       "      <td>0.0</td>\n",
       "      <td>189.0</td>\n",
       "      <td>252.0</td>\n",
       "      <td>1967.0</td>\n",
       "      <td>3344.0</td>\n",
       "    </tr>\n",
       "    <tr>\n",
       "      <th>max_power</th>\n",
       "      <td>6699.0</td>\n",
       "      <td>2887.864832</td>\n",
       "      <td>5317.066792</td>\n",
       "      <td>0.0</td>\n",
       "      <td>115.0</td>\n",
       "      <td>831.0</td>\n",
       "      <td>5816.0</td>\n",
       "      <td>108495.0</td>\n",
       "    </tr>\n",
       "  </tbody>\n",
       "</table>\n",
       "</div>"
      ],
      "text/plain": [
       "            count          mean           std     min      25%      50%  \\\n",
       "year       6699.0   2014.074937      3.914516  1983.0   2012.0   2015.0   \n",
       "km_driven  6699.0  68071.735632  57801.387411     1.0  32250.0  60000.0   \n",
       "seats      6699.0      5.423118      0.944239     2.0      5.0      5.0   \n",
       "engine     6699.0   1455.612744    498.356091   624.0   1197.0   1248.0   \n",
       "mileage    6699.0    991.148376    917.477937     0.0    189.0    252.0   \n",
       "max_power  6699.0   2887.864832   5317.066792     0.0    115.0    831.0   \n",
       "\n",
       "               75%        max  \n",
       "year        2017.0     2020.0  \n",
       "km_driven  90000.0  2360457.0  \n",
       "seats          5.0       14.0  \n",
       "engine      1582.0     3604.0  \n",
       "mileage     1967.0     3344.0  \n",
       "max_power   5816.0   108495.0  "
      ]
     },
     "execution_count": 41,
     "metadata": {},
     "output_type": "execute_result"
    }
   ],
   "source": [
    "X_train.describe().T"
   ]
  },
  {
   "cell_type": "code",
   "execution_count": 42,
   "metadata": {
    "executionInfo": {
     "elapsed": 609,
     "status": "ok",
     "timestamp": 1721382551308,
     "user": {
      "displayName": "Yozhik31",
      "userId": "07739058683274005436"
     },
     "user_tz": -180
    },
    "id": "XgDZK_Cp0AYS"
   },
   "outputs": [],
   "source": [
    "X_test[['engine', 'seats', 'mileage', 'max_power']] = X_test[['engine', 'seats', 'mileage', 'max_power']]. fillna(X_test[['engine', 'seats', 'mileage', 'max_power']].mean())"
   ]
  },
  {
   "cell_type": "code",
   "execution_count": 43,
   "metadata": {
    "colab": {
     "base_uri": "https://localhost:8080/",
     "height": 424
    },
    "executionInfo": {
     "elapsed": 4,
     "status": "ok",
     "timestamp": 1721382553136,
     "user": {
      "displayName": "Yozhik31",
      "userId": "07739058683274005436"
     },
     "user_tz": -180
    },
    "id": "6EbrZy7T2F5-",
    "outputId": "a983a61f-8213-4d1e-cae4-2e27f5317f58"
   },
   "outputs": [
    {
     "data": {
      "text/html": [
       "<div>\n",
       "<style scoped>\n",
       "    .dataframe tbody tr th:only-of-type {\n",
       "        vertical-align: middle;\n",
       "    }\n",
       "\n",
       "    .dataframe tbody tr th {\n",
       "        vertical-align: top;\n",
       "    }\n",
       "\n",
       "    .dataframe thead th {\n",
       "        text-align: right;\n",
       "    }\n",
       "</style>\n",
       "<table border=\"1\" class=\"dataframe\">\n",
       "  <thead>\n",
       "    <tr style=\"text-align: right;\">\n",
       "      <th></th>\n",
       "      <th>year</th>\n",
       "      <th>km_driven</th>\n",
       "      <th>seats</th>\n",
       "      <th>engine</th>\n",
       "      <th>mileage</th>\n",
       "      <th>max_power</th>\n",
       "    </tr>\n",
       "  </thead>\n",
       "  <tbody>\n",
       "    <tr>\n",
       "      <th>0</th>\n",
       "      <td>2010</td>\n",
       "      <td>168000</td>\n",
       "      <td>7</td>\n",
       "      <td>2498</td>\n",
       "      <td>140</td>\n",
       "      <td>112</td>\n",
       "    </tr>\n",
       "    <tr>\n",
       "      <th>1</th>\n",
       "      <td>2017</td>\n",
       "      <td>25000</td>\n",
       "      <td>5</td>\n",
       "      <td>1497</td>\n",
       "      <td>215</td>\n",
       "      <td>1085</td>\n",
       "    </tr>\n",
       "    <tr>\n",
       "      <th>2</th>\n",
       "      <td>2007</td>\n",
       "      <td>218463</td>\n",
       "      <td>5</td>\n",
       "      <td>1799</td>\n",
       "      <td>129</td>\n",
       "      <td>130</td>\n",
       "    </tr>\n",
       "    <tr>\n",
       "      <th>3</th>\n",
       "      <td>2015</td>\n",
       "      <td>173000</td>\n",
       "      <td>5</td>\n",
       "      <td>1498</td>\n",
       "      <td>251</td>\n",
       "      <td>986</td>\n",
       "    </tr>\n",
       "    <tr>\n",
       "      <th>4</th>\n",
       "      <td>2011</td>\n",
       "      <td>70000</td>\n",
       "      <td>5</td>\n",
       "      <td>1172</td>\n",
       "      <td>165</td>\n",
       "      <td>65</td>\n",
       "    </tr>\n",
       "    <tr>\n",
       "      <th>...</th>\n",
       "      <td>...</td>\n",
       "      <td>...</td>\n",
       "      <td>...</td>\n",
       "      <td>...</td>\n",
       "      <td>...</td>\n",
       "      <td>...</td>\n",
       "    </tr>\n",
       "    <tr>\n",
       "      <th>995</th>\n",
       "      <td>2008</td>\n",
       "      <td>100000</td>\n",
       "      <td>5</td>\n",
       "      <td>1086</td>\n",
       "      <td>1981</td>\n",
       "      <td>6805</td>\n",
       "    </tr>\n",
       "    <tr>\n",
       "      <th>996</th>\n",
       "      <td>2017</td>\n",
       "      <td>50000</td>\n",
       "      <td>5</td>\n",
       "      <td>1197</td>\n",
       "      <td>186</td>\n",
       "      <td>8183</td>\n",
       "    </tr>\n",
       "    <tr>\n",
       "      <th>997</th>\n",
       "      <td>2009</td>\n",
       "      <td>40000</td>\n",
       "      <td>5</td>\n",
       "      <td>1396</td>\n",
       "      <td>230</td>\n",
       "      <td>90</td>\n",
       "    </tr>\n",
       "    <tr>\n",
       "      <th>998</th>\n",
       "      <td>2012</td>\n",
       "      <td>25000</td>\n",
       "      <td>5</td>\n",
       "      <td>1197</td>\n",
       "      <td>2036</td>\n",
       "      <td>789</td>\n",
       "    </tr>\n",
       "    <tr>\n",
       "      <th>999</th>\n",
       "      <td>2016</td>\n",
       "      <td>110000</td>\n",
       "      <td>5</td>\n",
       "      <td>1498</td>\n",
       "      <td>260</td>\n",
       "      <td>986</td>\n",
       "    </tr>\n",
       "  </tbody>\n",
       "</table>\n",
       "<p>1000 rows × 6 columns</p>\n",
       "</div>"
      ],
      "text/plain": [
       "     year  km_driven  seats  engine  mileage  max_power\n",
       "0    2010     168000      7    2498      140        112\n",
       "1    2017      25000      5    1497      215       1085\n",
       "2    2007     218463      5    1799      129        130\n",
       "3    2015     173000      5    1498      251        986\n",
       "4    2011      70000      5    1172      165         65\n",
       "..    ...        ...    ...     ...      ...        ...\n",
       "995  2008     100000      5    1086     1981       6805\n",
       "996  2017      50000      5    1197      186       8183\n",
       "997  2009      40000      5    1396      230         90\n",
       "998  2012      25000      5    1197     2036        789\n",
       "999  2016     110000      5    1498      260        986\n",
       "\n",
       "[1000 rows x 6 columns]"
      ]
     },
     "execution_count": 43,
     "metadata": {},
     "output_type": "execute_result"
    }
   ],
   "source": [
    "X_test.astype(int)"
   ]
  },
  {
   "cell_type": "code",
   "execution_count": 44,
   "metadata": {
    "colab": {
     "base_uri": "https://localhost:8080/",
     "height": 238
    },
    "executionInfo": {
     "elapsed": 491,
     "status": "ok",
     "timestamp": 1721382569258,
     "user": {
      "displayName": "Yozhik31",
      "userId": "07739058683274005436"
     },
     "user_tz": -180
    },
    "id": "HJW8LmnuFloK",
    "outputId": "1a99c6fc-49f8-4eb3-f8fe-602e4407f6b0"
   },
   "outputs": [
    {
     "data": {
      "text/html": [
       "<div>\n",
       "<style scoped>\n",
       "    .dataframe tbody tr th:only-of-type {\n",
       "        vertical-align: middle;\n",
       "    }\n",
       "\n",
       "    .dataframe tbody tr th {\n",
       "        vertical-align: top;\n",
       "    }\n",
       "\n",
       "    .dataframe thead th {\n",
       "        text-align: right;\n",
       "    }\n",
       "</style>\n",
       "<table border=\"1\" class=\"dataframe\">\n",
       "  <thead>\n",
       "    <tr style=\"text-align: right;\">\n",
       "      <th></th>\n",
       "      <th>count</th>\n",
       "      <th>mean</th>\n",
       "      <th>std</th>\n",
       "      <th>min</th>\n",
       "      <th>25%</th>\n",
       "      <th>50%</th>\n",
       "      <th>75%</th>\n",
       "      <th>max</th>\n",
       "    </tr>\n",
       "  </thead>\n",
       "  <tbody>\n",
       "    <tr>\n",
       "      <th>year</th>\n",
       "      <td>1000.0</td>\n",
       "      <td>2013.681000</td>\n",
       "      <td>4.012149</td>\n",
       "      <td>1995.0</td>\n",
       "      <td>2011.0</td>\n",
       "      <td>2014.0</td>\n",
       "      <td>2017.000000</td>\n",
       "      <td>2020.0</td>\n",
       "    </tr>\n",
       "    <tr>\n",
       "      <th>km_driven</th>\n",
       "      <td>1000.0</td>\n",
       "      <td>71393.341000</td>\n",
       "      <td>48486.218662</td>\n",
       "      <td>1303.0</td>\n",
       "      <td>37000.0</td>\n",
       "      <td>61500.0</td>\n",
       "      <td>100000.000000</td>\n",
       "      <td>375000.0</td>\n",
       "    </tr>\n",
       "    <tr>\n",
       "      <th>seats</th>\n",
       "      <td>1000.0</td>\n",
       "      <td>5.410805</td>\n",
       "      <td>0.911195</td>\n",
       "      <td>4.0</td>\n",
       "      <td>5.0</td>\n",
       "      <td>5.0</td>\n",
       "      <td>5.000000</td>\n",
       "      <td>9.0</td>\n",
       "    </tr>\n",
       "    <tr>\n",
       "      <th>engine</th>\n",
       "      <td>1000.0</td>\n",
       "      <td>1458.882773</td>\n",
       "      <td>521.200362</td>\n",
       "      <td>624.0</td>\n",
       "      <td>1197.0</td>\n",
       "      <td>1248.0</td>\n",
       "      <td>1582.000000</td>\n",
       "      <td>3604.0</td>\n",
       "    </tr>\n",
       "    <tr>\n",
       "      <th>mileage</th>\n",
       "      <td>1000.0</td>\n",
       "      <td>907.270133</td>\n",
       "      <td>906.549558</td>\n",
       "      <td>0.0</td>\n",
       "      <td>182.0</td>\n",
       "      <td>234.0</td>\n",
       "      <td>1910.750000</td>\n",
       "      <td>3226.0</td>\n",
       "    </tr>\n",
       "    <tr>\n",
       "      <th>max_power</th>\n",
       "      <td>1000.0</td>\n",
       "      <td>2575.874618</td>\n",
       "      <td>3957.854433</td>\n",
       "      <td>35.0</td>\n",
       "      <td>102.0</td>\n",
       "      <td>739.0</td>\n",
       "      <td>2575.874618</td>\n",
       "      <td>25479.0</td>\n",
       "    </tr>\n",
       "  </tbody>\n",
       "</table>\n",
       "</div>"
      ],
      "text/plain": [
       "            count          mean           std     min      25%      50%  \\\n",
       "year       1000.0   2013.681000      4.012149  1995.0   2011.0   2014.0   \n",
       "km_driven  1000.0  71393.341000  48486.218662  1303.0  37000.0  61500.0   \n",
       "seats      1000.0      5.410805      0.911195     4.0      5.0      5.0   \n",
       "engine     1000.0   1458.882773    521.200362   624.0   1197.0   1248.0   \n",
       "mileage    1000.0    907.270133    906.549558     0.0    182.0    234.0   \n",
       "max_power  1000.0   2575.874618   3957.854433    35.0    102.0    739.0   \n",
       "\n",
       "                     75%       max  \n",
       "year         2017.000000    2020.0  \n",
       "km_driven  100000.000000  375000.0  \n",
       "seats           5.000000       9.0  \n",
       "engine       1582.000000    3604.0  \n",
       "mileage      1910.750000    3226.0  \n",
       "max_power    2575.874618   25479.0  "
      ]
     },
     "execution_count": 44,
     "metadata": {},
     "output_type": "execute_result"
    }
   ],
   "source": [
    "X_test.describe().T"
   ]
  },
  {
   "cell_type": "code",
   "execution_count": 45,
   "metadata": {
    "colab": {
     "base_uri": "https://localhost:8080/"
    },
    "executionInfo": {
     "elapsed": 517,
     "status": "ok",
     "timestamp": 1721382573495,
     "user": {
      "displayName": "Yozhik31",
      "userId": "07739058683274005436"
     },
     "user_tz": -180
    },
    "id": "ZDMTjTiaQyW7",
    "outputId": "139209bc-814c-47a0-84d1-fe32ce0fdd47"
   },
   "outputs": [
    {
     "data": {
      "text/plain": [
       "year         0\n",
       "km_driven    0\n",
       "seats        0\n",
       "engine       0\n",
       "mileage      0\n",
       "max_power    0\n",
       "dtype: int64"
      ]
     },
     "execution_count": 45,
     "metadata": {},
     "output_type": "execute_result"
    }
   ],
   "source": [
    "X_test.isnull().sum()"
   ]
  },
  {
   "cell_type": "markdown",
   "metadata": {
    "id": "BUatWsDGi_rj"
   },
   "source": [
    "Теперь на обработанных тренировочных данных обучите:\n",
    "\n",
    "*  линейную регрессию,\n",
    "*  случайный лес с параметрами по умолчанию.\n",
    "\n",
    "На обработанных тестовых данных сделайте предсказание и вычислите метрику $R^2$."
   ]
  },
  {
   "cell_type": "code",
   "execution_count": 46,
   "metadata": {
    "executionInfo": {
     "elapsed": 468,
     "status": "ok",
     "timestamp": 1721382577490,
     "user": {
      "displayName": "Yozhik31",
      "userId": "07739058683274005436"
     },
     "user_tz": -180
    },
    "id": "cQ7iS1eu-s_8"
   },
   "outputs": [],
   "source": [
    "# Ваш код здесь\n",
    "model_lin = LinearRegression()\n",
    "model_lin.fit(X_train, ytrain)\n",
    "\n",
    "pred_test = model_lin.predict(X_test)"
   ]
  },
  {
   "cell_type": "code",
   "execution_count": 47,
   "metadata": {
    "colab": {
     "base_uri": "https://localhost:8080/"
    },
    "executionInfo": {
     "elapsed": 473,
     "status": "ok",
     "timestamp": 1721382580768,
     "user": {
      "displayName": "Yozhik31",
      "userId": "07739058683274005436"
     },
     "user_tz": -180
    },
    "id": "ruib71EdTmvb",
    "outputId": "856a3493-4617-48b8-feed-4f5e4d9b0441"
   },
   "outputs": [
    {
     "data": {
      "text/plain": [
       "0.48683362277657005"
      ]
     },
     "execution_count": 47,
     "metadata": {},
     "output_type": "execute_result"
    }
   ],
   "source": [
    "r2_score(ytest, pred_test)"
   ]
  },
  {
   "cell_type": "code",
   "execution_count": 48,
   "metadata": {
    "executionInfo": {
     "elapsed": 2044,
     "status": "ok",
     "timestamp": 1721382585557,
     "user": {
      "displayName": "Yozhik31",
      "userId": "07739058683274005436"
     },
     "user_tz": -180
    },
    "id": "0DietADeLAzv"
   },
   "outputs": [],
   "source": [
    "model_rf = RandomForestRegressor(random_state=42)\n",
    "model_rf.fit(X_train, ytrain)\n",
    "\n",
    "pred_test_rf = model_rf.predict(X_test)"
   ]
  },
  {
   "cell_type": "code",
   "execution_count": 49,
   "metadata": {
    "colab": {
     "base_uri": "https://localhost:8080/"
    },
    "executionInfo": {
     "elapsed": 492,
     "status": "ok",
     "timestamp": 1721382588356,
     "user": {
      "displayName": "Yozhik31",
      "userId": "07739058683274005436"
     },
     "user_tz": -180
    },
    "id": "VWO8VkJrLmd8",
    "outputId": "cc968de3-a8d9-433d-efe1-ae65018d2d0e"
   },
   "outputs": [
    {
     "data": {
      "text/plain": [
       "0.9441055470301495"
      ]
     },
     "execution_count": 49,
     "metadata": {},
     "output_type": "execute_result"
    }
   ],
   "source": [
    "r2_score(ytest, pred_test_rf)"
   ]
  },
  {
   "cell_type": "markdown",
   "metadata": {
    "id": "LbbD1-qC76HW"
   },
   "source": [
    "Какая модель получилась лучше?"
   ]
  },
  {
   "cell_type": "code",
   "execution_count": 50,
   "metadata": {
    "id": "j3N-kazm767P"
   },
   "outputs": [],
   "source": [
    "# Ваш ответ здесь\n",
    "# Модель случайного леса лучше, r2 на тесте равен 0,944"
   ]
  },
  {
   "cell_type": "markdown",
   "metadata": {
    "id": "J36iRaNoBEkT"
   },
   "source": [
    "Улучшите качество предсказания случайного леса путём подбора гиперпараметров:\n",
    "\n",
    "*   n_estimators,\n",
    "*   max_depth,\n",
    "*   max_features,\n",
    "*   min_samples_leaf,\n",
    "*   min_samples_split.\n",
    "\n",
    "Для подбора гиперпараметров используйте GridSearchCV. Обучайте GridSearchCV по тренировочным данным с разбивкой на три фолда и метрикой $R^2$."
   ]
  },
  {
   "cell_type": "code",
   "execution_count": null,
   "metadata": {
    "colab": {
     "base_uri": "https://localhost:8080/",
     "height": 118
    },
    "executionInfo": {
     "elapsed": 1185654,
     "status": "ok",
     "timestamp": 1721383800403,
     "user": {
      "displayName": "Yozhik31",
      "userId": "07739058683274005436"
     },
     "user_tz": -180
    },
    "id": "3IWEulMqBXlv",
    "outputId": "febcbc6e-5c35-4407-d190-e876edca4806"
   },
   "outputs": [],
   "source": [
    "# Ваш код здесь\n",
    "params = {'n_estimators' : np.arange(10, 120, 20),\n",
    "          'max_depth' : np.arange(2, 25, 4),\n",
    "          'max_features' : ['sqrt', 'log2', None],\n",
    "          'min_samples_split' : np.arange(2, 12, 2),\n",
    "          'min_samples_leaf' : [1, 2]}\n",
    "\n",
    "gs = GridSearchCV(RandomForestRegressor(random_state=42), params, cv=3, scoring='r2')\n",
    "\n",
    "gs.fit(X_train, ytrain)"
   ]
  },
  {
   "cell_type": "code",
   "execution_count": null,
   "metadata": {
    "colab": {
     "base_uri": "https://localhost:8080/",
     "height": 92
    },
    "executionInfo": {
     "elapsed": 649,
     "status": "ok",
     "timestamp": 1721381624976,
     "user": {
      "displayName": "Yozhik31",
      "userId": "07739058683274005436"
     },
     "user_tz": -180
    },
    "id": "I-bQUoVuVwpU",
    "outputId": "8dab083e-6743-4e4c-92da-b44be3958b55"
   },
   "outputs": [],
   "source": [
    "gs.best_estimator_"
   ]
  },
  {
   "cell_type": "markdown",
   "metadata": {
    "id": "TPNNp6cPDsjD"
   },
   "source": [
    "Теперь обучите на тренировочных данных случайный лес с найденными гиперпараметрами. Сделайте предсказание на тестовых данных и оцените его качество ($R^2$)."
   ]
  },
  {
   "cell_type": "code",
   "execution_count": null,
   "metadata": {
    "colab": {
     "base_uri": "https://localhost:8080/",
     "height": 92
    },
    "executionInfo": {
     "elapsed": 3041,
     "status": "ok",
     "timestamp": 1721383866240,
     "user": {
      "displayName": "Yozhik31",
      "userId": "07739058683274005436"
     },
     "user_tz": -180
    },
    "id": "MPdZ9qCxDrkF",
    "outputId": "5b5aab30-7376-452f-cfad-10193cf92d1f"
   },
   "outputs": [],
   "source": [
    "# Ваш код здесь\n",
    "model_final = gs.best_estimator_\n",
    "\n",
    "model_final.fit(X_train, ytrain)"
   ]
  },
  {
   "cell_type": "code",
   "execution_count": null,
   "metadata": {
    "executionInfo": {
     "elapsed": 2,
     "status": "ok",
     "timestamp": 1721383870592,
     "user": {
      "displayName": "Yozhik31",
      "userId": "07739058683274005436"
     },
     "user_tz": -180
    },
    "id": "48ZrfXTkV-ok"
   },
   "outputs": [],
   "source": [
    "pred_test_final = model_final.predict(X_test)"
   ]
  },
  {
   "cell_type": "code",
   "execution_count": null,
   "metadata": {
    "colab": {
     "base_uri": "https://localhost:8080/"
    },
    "executionInfo": {
     "elapsed": 13,
     "status": "ok",
     "timestamp": 1721383875435,
     "user": {
      "displayName": "Yozhik31",
      "userId": "07739058683274005436"
     },
     "user_tz": -180
    },
    "id": "j7bp9l07WLju",
    "outputId": "bf0a69b0-69de-4559-e1d9-06f10e4513c4"
   },
   "outputs": [],
   "source": [
    "r2_score(ytest, pred_test_final)"
   ]
  },
  {
   "cell_type": "markdown",
   "metadata": {
    "id": "dpWSQeD4ENby"
   },
   "source": [
    "Модель готова. Осталось её проинтерпретировать.\n",
    "\n",
    "При помощи метода model.feature_importances_ визуализируйте гистограмму важности признаков у случайного леса с настроенными гиперпараметрами."
   ]
  },
  {
   "cell_type": "code",
   "execution_count": null,
   "metadata": {
    "colab": {
     "base_uri": "https://localhost:8080/",
     "height": 524
    },
    "executionInfo": {
     "elapsed": 499,
     "status": "ok",
     "timestamp": 1721384025052,
     "user": {
      "displayName": "Yozhik31",
      "userId": "07739058683274005436"
     },
     "user_tz": -180
    },
    "id": "7uZzKbUnD54w",
    "outputId": "d1ff55f5-912d-40ce-8cc0-e3f9d2be4317"
   },
   "outputs": [],
   "source": [
    "# Ваш код здесь\n",
    "features = X_train.columns\n",
    "importances = model_final.feature_importances_\n",
    "indices = np.argsort(importances)\n",
    "\n",
    "plt.title('Feature Importances')\n",
    "plt.barh(range(len(indices)), importances[indices], color='b', align='center')\n",
    "plt.yticks(range(len(indices)), [features[i] for i in indices])\n",
    "plt.xlabel('Relative Importance')\n",
    "plt.show()"
   ]
  }
 ],
 "metadata": {
  "colab": {
   "provenance": []
  },
  "kernelspec": {
   "display_name": "Python 3 (ipykernel)",
   "language": "python",
   "name": "python3"
  },
  "language_info": {
   "codemirror_mode": {
    "name": "ipython",
    "version": 3
   },
   "file_extension": ".py",
   "mimetype": "text/x-python",
   "name": "python",
   "nbconvert_exporter": "python",
   "pygments_lexer": "ipython3",
   "version": "3.11.7"
  }
 },
 "nbformat": 4,
 "nbformat_minor": 1
}
